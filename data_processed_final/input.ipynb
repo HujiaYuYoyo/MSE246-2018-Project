{
 "cells": [
  {
   "cell_type": "code",
   "execution_count": 1,
   "metadata": {
    "collapsed": true
   },
   "outputs": [],
   "source": [
    "import pandas as pd\n",
    "import numpy as np"
   ]
  },
  {
   "cell_type": "code",
   "execution_count": 19,
   "metadata": {
    "collapsed": true
   },
   "outputs": [],
   "source": [
    "# train = pd.read_csv(\"output/sorted_train0310.csv\")\n",
    "# test = pd.read_csv(\"output/sorted_test0310.csv\")\n",
    "# val = pd.read_csv(\"output/sorted_val0310.csv\")\n",
    "\n",
    "train = pd.read_csv(\"output/random_train0310.csv\")\n",
    "test = pd.read_csv(\"output/random_test0310.csv\")\n",
    "val = pd.read_csv(\"output/random_val0310.csv\")"
   ]
  },
  {
   "cell_type": "code",
   "execution_count": 16,
   "metadata": {},
   "outputs": [
    {
     "name": "stdout",
     "output_type": "stream",
     "text": [
      "Chargeoffs: 7124\n",
      "Percentage of loans that defaulted: 0.162481468811\n",
      "Chargeoffs: 891\n",
      "Percentage of loans that defaulted: 0.162561576355\n"
     ]
    }
   ],
   "source": [
    "# Compute some statistics\n",
    "chargeoff_count = (train['LoanStatus'] == \"CHGOFF\").sum()\n",
    "print 'Chargeoffs:', chargeoff_count\n",
    "print 'Percentage of loans that defaulted:', float(chargeoff_count)/len(train)\n",
    "\n",
    "chargeoff_count = (test['LoanStatus'] == \"CHGOFF\").sum()\n",
    "print 'Chargeoffs:', chargeoff_count\n",
    "print 'Percentage of loans that defaulted:', float(chargeoff_count)/len(test)"
   ]
  },
  {
   "cell_type": "code",
   "execution_count": 21,
   "metadata": {},
   "outputs": [
    {
     "name": "stdout",
     "output_type": "stream",
     "text": [
      "before drop:  43845\n",
      "after drop:  25383\n",
      "before drop:  5481\n",
      "after drop:  3186\n",
      "Chargeoffs: 7124\n",
      "Percentage of loans that defaulted: 0.280660284442\n",
      "Chargeoffs: 891\n",
      "Percentage of loans that defaulted: 0.279661016949\n"
     ]
    }
   ],
   "source": [
    "# if import from sorted data - need to downsample train dataset to be more balanced\n",
    "# can call the following function multiple times for decreasing in log term\n",
    "# dropping PIF samples with 50% probability\n",
    "\n",
    "def drop_half(train):\n",
    "    print 'before drop: ', train.shape[0]\n",
    "    dropidx = []\n",
    "    for idx, val in train['LoanStatus'].iteritems():\n",
    "        if val != 'CHGOFF':\n",
    "            rand = np.random.rand()\n",
    "            if rand < 0.5:\n",
    "                dropidx.append(idx)\n",
    "    train = train.drop(dropidx)\n",
    "    print 'after drop: ', train.shape[0]\n",
    "    return train\n",
    "    \n",
    "train = drop_half(train)\n",
    "# test = drop_half(test)\n",
    "\n",
    "chargeoff_count = (train['LoanStatus'] == \"CHGOFF\").sum()\n",
    "print 'Chargeoffs:', chargeoff_count\n",
    "print 'Percentage of loans that defaulted:', float(chargeoff_count)/len(train)\n",
    "\n",
    "chargeoff_count = (test['LoanStatus'] == \"CHGOFF\").sum()\n",
    "print 'Chargeoffs:', chargeoff_count\n",
    "print 'Percentage of loans that defaulted:', float(chargeoff_count)/len(test)"
   ]
  },
  {
   "cell_type": "code",
   "execution_count": 22,
   "metadata": {},
   "outputs": [
    {
     "name": "stdout",
     "output_type": "stream",
     "text": [
      "['BorrState', 'CDC_State', 'ThirdPartyLender_State', 'ApprovalDate', 'ApprovalFiscalYear', 'DeliveryMethod', 'subpgmdesc', 'TermInMonths', 'ProjectCounty', 'ProjectState', 'BusinessType', 'SP500_Yearly_Return', 'CPI', 'Log_GrossApproval_Norm', 'Log_HPI_Norm', 'ThirdPartyDollars_Norm', 'TermMultipleYear', 'RepeatBorrower', 'BankStateneqBorrowerState', 'ProjectStateneqBorrowerState', '2DigitNaics']\n"
     ]
    }
   ],
   "source": [
    "# filtering for the columns you don't want to include for your model\n",
    "c = train.columns.tolist()\n",
    "c.remove('LoanStatus')\n",
    "c.remove('ChargeOffDate')\n",
    "c.remove('GrossChargeOffAmount')\n",
    "c.remove('BorrZip')\n",
    "c.remove('CDC_Zip')\n",
    "c.remove('BorrCity')\n",
    "c.remove('CDC_City')\n",
    "c.remove('ThirdPartyLender_City')\n",
    "print c"
   ]
  },
  {
   "cell_type": "code",
   "execution_count": 23,
   "metadata": {
    "collapsed": true
   },
   "outputs": [],
   "source": [
    "x_train = train[c]\n",
    "x_test = test[c]\n",
    "\n",
    "y_train_logit = train['LoanStatus']\n",
    "y_test_logit = test['LoanStatus']\n",
    "\n",
    "# hazard_target = train['ChargeOffDate']\n",
    "# amount_target = train['GrossChargeOffAmount']\n",
    "\n",
    "# convert categorical variables to dummy variables\n",
    "x_train = pd.get_dummies(x_train)\n",
    "x_test = pd.get_dummies(x_test)\n",
    "# val = pd.get_dummies(val)"
   ]
  },
  {
   "cell_type": "code",
   "execution_count": 24,
   "metadata": {},
   "outputs": [
    {
     "name": "stdout",
     "output_type": "stream",
     "text": [
      "before fix columns: \n",
      "(25383, 6519)\n",
      "(3186, 3197)\n",
      "after fix columns: \n",
      "(25383, 6519)\n",
      "(3186, 6519)\n"
     ]
    }
   ],
   "source": [
    "# to get consistent feature dimensions for both train and test dataset\n",
    "def add_missing_dummy_columns(d1, d2):\n",
    "    missing_cols = set(d1.columns) - set(d2.columns)\n",
    "    for c in missing_cols:\n",
    "        d2[c] = 0\n",
    "    return d2\n",
    "\n",
    "print 'before fix columns: '\n",
    "print x_train.shape\n",
    "print x_test.shape\n",
    "\n",
    "def fix_columns(x_train, x_test):  \n",
    "\n",
    "    x_test = add_missing_dummy_columns(x_train, x_test)\n",
    "\n",
    "    extra_cols = set(x_test.columns) - set(x_train.columns)\n",
    "    x_test = x_test[x_train.columns]\n",
    "    return x_test\n",
    "\n",
    "x_test = fix_columns(x_train, x_test)\n",
    "print 'after fix columns: '\n",
    "print x_train.shape\n",
    "print x_test.shape"
   ]
  },
  {
   "cell_type": "code",
   "execution_count": 25,
   "metadata": {
    "collapsed": true
   },
   "outputs": [],
   "source": [
    "# x_train, x_test is ready to be used!!"
   ]
  },
  {
   "cell_type": "code",
   "execution_count": 26,
   "metadata": {},
   "outputs": [
    {
     "data": {
      "text/plain": [
       "LogisticRegression(C=1, class_weight=None, dual=False, fit_intercept=True,\n",
       "          intercept_scaling=1, max_iter=10, multi_class='multinomial',\n",
       "          n_jobs=1, penalty='l1', random_state=42, solver='saga',\n",
       "          tol=0.0001, verbose=0, warm_start=False)"
      ]
     },
     "execution_count": 26,
     "metadata": {},
     "output_type": "execute_result"
    }
   ],
   "source": [
    "# fit to models \n",
    "# below is to an exmple to fit to logit model\n",
    "\n",
    "# y_train_logit = np.reshape(l, (len(l),))\n",
    "from sklearn.linear_model import LogisticRegression\n",
    "solver = 'saga'\n",
    "\n",
    "lr = LogisticRegression(solver=solver, \n",
    "                        multi_class= 'multinomial', \n",
    "                        C=1,\n",
    "                        penalty = 'l1',\n",
    "                        fit_intercept=True,\n",
    "                        max_iter=10,\n",
    "                        random_state=42, \n",
    "                       )\n",
    "lr.fit(x_train, y_train_logit)"
   ]
  },
  {
   "cell_type": "code",
   "execution_count": 27,
   "metadata": {},
   "outputs": [
    {
     "name": "stdout",
     "output_type": "stream",
     "text": [
      "train:  0.719221526218\n",
      "test:  0.720652856246\n"
     ]
    }
   ],
   "source": [
    "# fit on training data to see if there is underfitting\n",
    "y_pred_train = lr.predict(x_train)\n",
    "print 'train: ', np.sum(y_pred_train == y_train_logit) *1./ y_train_logit.shape[0]\n",
    "\n",
    "# fit on test set to see if there is overfitting\n",
    "y_pred_test = lr.predict(x_test)\n",
    "print 'test: ', np.sum(y_pred_test == y_test_logit) *1./ y_test_logit.shape[0]"
   ]
  },
  {
   "cell_type": "code",
   "execution_count": 28,
   "metadata": {},
   "outputs": [
    {
     "name": "stdout",
     "output_type": "stream",
     "text": [
      "             precision    recall  f1-score   support\n",
      "\n",
      "     CHGOFF       1.00      0.00      0.00       891\n",
      "        PIF       0.72      1.00      0.84      2295\n",
      "\n",
      "avg / total       0.80      0.72      0.60      3186\n",
      "\n"
     ]
    }
   ],
   "source": [
    "from sklearn import metrics\n",
    "\n",
    "print metrics.classification_report(y_test_logit, y_pred_test)"
   ]
  },
  {
   "cell_type": "code",
   "execution_count": null,
   "metadata": {
    "collapsed": true
   },
   "outputs": [],
   "source": []
  }
 ],
 "metadata": {
  "kernelspec": {
   "display_name": "Python 2",
   "language": "python",
   "name": "python2"
  },
  "language_info": {
   "codemirror_mode": {
    "name": "ipython",
    "version": 2
   },
   "file_extension": ".py",
   "mimetype": "text/x-python",
   "name": "python",
   "nbconvert_exporter": "python",
   "pygments_lexer": "ipython2",
   "version": "2.7.14"
  }
 },
 "nbformat": 4,
 "nbformat_minor": 2
}
