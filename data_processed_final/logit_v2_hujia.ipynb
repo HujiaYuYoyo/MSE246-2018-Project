{
 "cells": [
  {
   "cell_type": "code",
   "execution_count": 55,
   "metadata": {
    "collapsed": true
   },
   "outputs": [],
   "source": [
    "import pandas as pd\n",
    "import numpy as np"
   ]
  },
  {
   "cell_type": "code",
   "execution_count": null,
   "metadata": {
    "collapsed": true
   },
   "outputs": [],
   "source": [
    "# train = pd.read_csv(\"output/sorted_train0310.csv\")\n",
    "# test = pd.read_csv(\"output/sorted_test0310.csv\")\n",
    "# val = pd.read_csv(\"output/sorted_val0310.csv\")"
   ]
  },
  {
   "cell_type": "code",
   "execution_count": 56,
   "metadata": {
    "collapsed": true
   },
   "outputs": [],
   "source": [
    "train = pd.read_csv(\"output/random_train0310.csv\")\n",
    "test = pd.read_csv(\"output/random_test0310.csv\")\n",
    "val = pd.read_csv(\"output/random_val0310.csv\")"
   ]
  },
  {
   "cell_type": "code",
   "execution_count": 57,
   "metadata": {},
   "outputs": [
    {
     "name": "stdout",
     "output_type": "stream",
     "text": [
      "Chargeoffs: 7124\n",
      "Percentage of loans that defaulted: 0.162481468811\n",
      "Chargeoffs: 891\n",
      "Percentage of loans that defaulted: 0.162561576355\n"
     ]
    }
   ],
   "source": [
    "# Compute some statistics\n",
    "chargeoff_count = (train['LoanStatus'] == \"CHGOFF\").sum()\n",
    "print 'Chargeoffs:', chargeoff_count\n",
    "print 'Percentage of loans that defaulted:', float(chargeoff_count)/len(train)\n",
    "\n",
    "chargeoff_count = (test['LoanStatus'] == \"CHGOFF\").sum()\n",
    "print 'Chargeoffs:', chargeoff_count\n",
    "print 'Percentage of loans that defaulted:', float(chargeoff_count)/len(test)"
   ]
  },
  {
   "cell_type": "code",
   "execution_count": 40,
   "metadata": {},
   "outputs": [
    {
     "name": "stdout",
     "output_type": "stream",
     "text": [
      "before drop:  43845\n",
      "after drop:  25440\n",
      "before drop:  25440\n",
      "after drop:  16330\n",
      "Chargeoffs: 7124\n",
      "Percentage of loans that defaulted: 0.436252296387\n",
      "Chargeoffs: 891\n",
      "Percentage of loans that defaulted: 0.162561576355\n"
     ]
    }
   ],
   "source": [
    "####### optional ##########\n",
    "# if import from sorted data - need to downsample train dataset to be more balanced\n",
    "# can call the following function multiple times for decreasing in log term\n",
    "# dropping PIF samples with 50% probability\n",
    "\n",
    "def drop_half(train):\n",
    "    print 'before drop: ', train.shape[0]\n",
    "    dropidx = []\n",
    "    for idx, val in train['LoanStatus'].iteritems():\n",
    "        if val != 'CHGOFF':\n",
    "            rand = np.random.rand()\n",
    "            if rand < 0.5:\n",
    "                dropidx.append(idx)\n",
    "    train = train.drop(dropidx)\n",
    "    print 'after drop: ', train.shape[0]\n",
    "    return train\n",
    "    \n",
    "train = drop_half(train)\n",
    "train = drop_half(train)\n",
    "# test = drop_half(test)\n",
    "\n",
    "chargeoff_count = (train['LoanStatus'] == \"CHGOFF\").sum()\n",
    "print 'Chargeoffs:', chargeoff_count\n",
    "print 'Percentage of loans that defaulted:', float(chargeoff_count)/len(train)\n",
    "\n",
    "chargeoff_count = (test['LoanStatus'] == \"CHGOFF\").sum()\n",
    "print 'Chargeoffs:', chargeoff_count\n",
    "print 'Percentage of loans that defaulted:', float(chargeoff_count)/len(test)"
   ]
  },
  {
   "cell_type": "code",
   "execution_count": 58,
   "metadata": {},
   "outputs": [
    {
     "name": "stdout",
     "output_type": "stream",
     "text": [
      "['BorrState', 'CDC_State', 'ThirdPartyLender_State', 'ApprovalFiscalYear', 'DeliveryMethod', 'subpgmdesc', 'TermInMonths', 'BusinessType', 'SP500_Yearly_Return', 'CPI', 'Log_GrossApproval_Norm', 'Log_HPI_Norm', 'ThirdPartyDollars_Norm', 'TermMultipleYear', 'RepeatBorrower', 'BankStateneqBorrowerState', 'ProjectStateneqBorrowerState', '2DigitNaics']\n"
     ]
    }
   ],
   "source": [
    "# filtering for the columns you don't want to include for your model\n",
    "c = train.columns.tolist()\n",
    "c.remove('LoanStatus')\n",
    "c.remove('ChargeOffDate')\n",
    "c.remove('GrossChargeOffAmount')\n",
    "c.remove('BorrZip')\n",
    "c.remove('CDC_Zip')\n",
    "c.remove('BorrCity')\n",
    "c.remove('CDC_City')\n",
    "c.remove('ThirdPartyLender_City')\n",
    "# c.remove('BorrState')\n",
    "# c.remove('CDC_State')\n",
    "# c.remove('ThirdPartyLender_State')\n",
    "c.remove('ProjectCounty')\n",
    "c.remove('ProjectState')\n",
    "c.remove('ApprovalDate')\n",
    "print c"
   ]
  },
  {
   "cell_type": "code",
   "execution_count": 59,
   "metadata": {
    "collapsed": true
   },
   "outputs": [],
   "source": [
    "x_train = train[c]\n",
    "x_test = test[c]\n",
    "\n",
    "y_train_logit = train['LoanStatus']\n",
    "y_test_logit = test['LoanStatus']\n",
    "\n",
    "# hazard_target = train['ChargeOffDate']\n",
    "# amount_target = train['GrossChargeOffAmount']\n",
    "\n",
    "# print train.dtypes\n",
    "# convert categorical variables to dummy variables\n",
    "x_train = pd.get_dummies(x_train)\n",
    "x_test = pd.get_dummies(x_test)\n",
    "# val = pd.get_dummies(val)"
   ]
  },
  {
   "cell_type": "code",
   "execution_count": 60,
   "metadata": {},
   "outputs": [
    {
     "name": "stdout",
     "output_type": "stream",
     "text": [
      "before fix columns: \n",
      "(43845, 216)\n",
      "(5481, 208)\n",
      "after fix columns: \n",
      "(43845, 216)\n",
      "(5481, 216)\n"
     ]
    }
   ],
   "source": [
    "# to get consistent feature dimensions for both train and test dataset\n",
    "def add_missing_dummy_columns(d1, d2):\n",
    "    missing_cols = set(d1.columns) - set(d2.columns)\n",
    "    for c in missing_cols:\n",
    "        d2[c] = 0\n",
    "    return d2\n",
    "\n",
    "print 'before fix columns: '\n",
    "print x_train.shape\n",
    "print x_test.shape\n",
    "\n",
    "def fix_columns(x_train, x_test):  \n",
    "\n",
    "    x_test = add_missing_dummy_columns(x_train, x_test)\n",
    "\n",
    "    extra_cols = set(x_test.columns) - set(x_train.columns)\n",
    "    x_test = x_test[x_train.columns]\n",
    "    return x_test\n",
    "\n",
    "x_test = fix_columns(x_train, x_test)\n",
    "print 'after fix columns: '\n",
    "print x_train.shape\n",
    "print x_test.shape"
   ]
  },
  {
   "cell_type": "code",
   "execution_count": 61,
   "metadata": {},
   "outputs": [
    {
     "data": {
      "text/plain": [
       "LogisticRegression(C=1, class_weight=None, dual=False, fit_intercept=True,\n",
       "          intercept_scaling=1, max_iter=10, multi_class='multinomial',\n",
       "          n_jobs=1, penalty='l1', random_state=42, solver='saga',\n",
       "          tol=0.0001, verbose=0, warm_start=False)"
      ]
     },
     "execution_count": 61,
     "metadata": {},
     "output_type": "execute_result"
    }
   ],
   "source": [
    "# fit to models \n",
    "# below is to fit to logit model\n",
    "\n",
    "# y_train_logit = np.reshape(l, (len(l),))\n",
    "from sklearn.linear_model import LogisticRegression\n",
    "solver = 'saga'\n",
    "\n",
    "lr = LogisticRegression(solver=solver, \n",
    "                        multi_class= 'multinomial', \n",
    "                        C=1,\n",
    "                        penalty = 'l1',\n",
    "                        fit_intercept=True,\n",
    "                        max_iter=10,\n",
    "                        random_state=42, \n",
    "                       )\n",
    "lr.fit(x_train, y_train_logit)"
   ]
  },
  {
   "cell_type": "code",
   "execution_count": 62,
   "metadata": {},
   "outputs": [
    {
     "name": "stdout",
     "output_type": "stream",
     "text": [
      "[[  1.14012683e-03   3.91185989e-04  -5.70427979e-03   9.02913310e-03\n",
      "    1.86245702e-02   3.43711503e-02   3.41452563e-02  -6.21555152e-05\n",
      "    1.00078378e-03   2.37574882e-03  -1.19283228e-04  -8.46344244e-06\n",
      "    4.25962877e-04   1.88892192e-04   5.69593025e-04  -3.82150009e-03\n",
      "    1.44969906e-04   1.16820604e-04  -5.93008856e-05  -2.29988419e-05\n",
      "    2.65389596e-03   1.23065381e-03  -5.78667480e-06  -1.86651582e-04\n",
      "   -7.79204810e-05  -5.07594664e-05   8.79141850e-04   2.49103004e-05\n",
      "   -2.44341223e-07   1.21987279e-04  -1.96834895e-04  -3.63328630e-04\n",
      "   -2.24215304e-04   1.53777112e-04   9.96089864e-04   1.16009278e-04\n",
      "   -4.60057493e-05   1.69528458e-04  -1.72244998e-04  -2.53156096e-04\n",
      "   -3.02486773e-04   2.38987466e-05  -5.51799175e-04   8.55789286e-05\n",
      "   -1.37790457e-04   2.51129865e-04  -7.87796069e-04  -4.65526903e-04\n",
      "    2.73986620e-04  -2.92577790e-04   3.96661117e-06   2.40316281e-04\n",
      "   -1.05563052e-04   1.64506240e-04  -6.57713059e-07   2.47694358e-04\n",
      "    7.86040888e-04  -4.41580876e-04  -5.16722792e-04   0.00000000e+00\n",
      "    9.32663134e-05  -7.16586665e-04  -1.72189184e-04   5.62857840e-05\n",
      "   -1.57072097e-04   0.00000000e+00   4.57476994e-04   1.98407434e-04\n",
      "    3.37727793e-04  -4.23949966e-03   9.12601061e-04   3.85727189e-05\n",
      "    2.89385970e-05  -1.64858546e-05   3.10106172e-03   8.58608749e-04\n",
      "   -2.01977924e-04  -7.96879758e-05  -1.12831730e-04   9.74171663e-04\n",
      "   -9.52007109e-06  -4.51288259e-07   1.39073848e-04  -1.80812680e-04\n",
      "   -3.97795033e-04  -3.54218557e-04   2.32889956e-06   9.84987371e-04\n",
      "   -3.49430194e-05   1.66172715e-04  -9.17003798e-05   1.12477309e-04\n",
      "   -1.76914345e-04  -2.38137005e-04  -3.26144029e-04   1.88890483e-05\n",
      "   -2.69656296e-04   8.30620434e-05  -1.78983627e-04  -7.92040410e-05\n",
      "   -8.07025490e-04  -4.22488035e-04   2.73986620e-04  -1.67965579e-04\n",
      "    2.14061175e-05   2.42240348e-04  -9.57377214e-05   1.21036979e-04\n",
      "   -7.73241993e-07   2.24158748e-04   8.26782430e-04  -1.78760251e-04\n",
      "   -4.98451680e-04   5.40308370e-05  -8.17258605e-04  -2.23767750e-04\n",
      "    5.14698048e-05  -1.38371582e-04  -2.69120501e-05   2.46810290e-05\n",
      "    0.00000000e+00  -4.71825997e-06   9.19049881e-04   3.59230597e-04\n",
      "    1.71654228e-04   0.00000000e+00   3.35439438e-03   1.09670809e-03\n",
      "    5.95052892e-04   2.61933900e-04   5.19745503e-04   1.42240610e-03\n",
      "    1.26304238e-03   0.00000000e+00  -4.41225263e-05   1.91407571e-04\n",
      "    1.60856572e-04   1.12129984e-03   3.29766942e-04   9.45017586e-05\n",
      "    1.53918717e-04   3.54869344e-05   3.55037512e-04   1.02603625e-04\n",
      "    1.42770493e-04   3.66380717e-04  -2.72871561e-02   1.38063696e-03\n",
      "    3.32735092e-04   1.63054336e-04   2.05090255e-05   1.22420360e-03\n",
      "   -3.71240123e-05   1.59858962e-04   2.35715736e-04   3.53922904e-04\n",
      "    5.54229217e-05   4.93453278e-04   8.27176809e-04   1.24420728e-03\n",
      "    2.47815668e-04   1.35110108e-04   2.19894440e-04   3.98627210e-04\n",
      "    6.91054635e-05   1.55273795e-07   2.16515685e-04   6.39557495e-04\n",
      "   -1.58011484e-07   3.24597138e-04   1.21299456e-03   2.38468819e-03\n",
      "    1.63189751e-04   9.33271830e-05   6.21237062e-04   5.13734933e-04\n",
      "    5.51905810e-05   0.00000000e+00  -1.08274789e-02  -2.33229577e-05\n",
      "    8.81024632e-03   1.89479778e-03  -2.33229577e-05  -2.76472851e-05\n",
      "   -1.97113736e-03   1.89479778e-03   1.83291200e-03  -7.90517172e-04\n",
      "    6.63743230e-05  -1.25480425e-03  -2.75288161e-07  -5.88867776e-06\n",
      "   -2.10624994e-06   1.20465378e-03   8.24269152e-06   2.30555502e-04\n",
      "   -4.25535341e-04  -1.52515354e-03   2.70206568e-03  -6.13468594e-05\n",
      "   -2.55925756e-05  -1.65358986e-05  -7.23048659e-08   8.50407013e-04\n",
      "    9.57073116e-04  -1.29337422e-03   4.15547153e-09  -7.78081731e-05\n",
      "    1.44922701e-04  -5.64408195e-04   1.16655768e-03   8.90796467e-03\n",
      "    8.83699287e-04  -1.79196879e-06   0.00000000e+00  -1.31939945e-02]\n",
      " [ -3.19148790e-03  -3.28860244e-04   0.00000000e+00   0.00000000e+00\n",
      "    0.00000000e+00   0.00000000e+00   0.00000000e+00   0.00000000e+00\n",
      "    0.00000000e+00   0.00000000e+00   0.00000000e+00   0.00000000e+00\n",
      "    0.00000000e+00   0.00000000e+00   0.00000000e+00   0.00000000e+00\n",
      "    0.00000000e+00   0.00000000e+00   0.00000000e+00   0.00000000e+00\n",
      "    0.00000000e+00   0.00000000e+00   0.00000000e+00   0.00000000e+00\n",
      "    0.00000000e+00   0.00000000e+00   9.84805552e-07   0.00000000e+00\n",
      "    0.00000000e+00   0.00000000e+00   0.00000000e+00   0.00000000e+00\n",
      "    0.00000000e+00   0.00000000e+00   0.00000000e+00   0.00000000e+00\n",
      "    0.00000000e+00   0.00000000e+00   0.00000000e+00   0.00000000e+00\n",
      "    0.00000000e+00   0.00000000e+00   0.00000000e+00   0.00000000e+00\n",
      "    0.00000000e+00   0.00000000e+00   0.00000000e+00   0.00000000e+00\n",
      "    0.00000000e+00   0.00000000e+00   0.00000000e+00   0.00000000e+00\n",
      "    0.00000000e+00   0.00000000e+00   0.00000000e+00   0.00000000e+00\n",
      "    0.00000000e+00   0.00000000e+00   0.00000000e+00   0.00000000e+00\n",
      "    0.00000000e+00   0.00000000e+00   0.00000000e+00   0.00000000e+00\n",
      "    0.00000000e+00   0.00000000e+00   0.00000000e+00   0.00000000e+00\n",
      "    0.00000000e+00   0.00000000e+00   0.00000000e+00   0.00000000e+00\n",
      "    0.00000000e+00   0.00000000e+00   0.00000000e+00   0.00000000e+00\n",
      "    0.00000000e+00   0.00000000e+00   0.00000000e+00   9.86203120e-07\n",
      "    0.00000000e+00   0.00000000e+00   0.00000000e+00   0.00000000e+00\n",
      "    0.00000000e+00   0.00000000e+00   0.00000000e+00   0.00000000e+00\n",
      "    0.00000000e+00   0.00000000e+00   0.00000000e+00   0.00000000e+00\n",
      "    0.00000000e+00   0.00000000e+00   0.00000000e+00   0.00000000e+00\n",
      "    0.00000000e+00   0.00000000e+00   0.00000000e+00   0.00000000e+00\n",
      "    0.00000000e+00   0.00000000e+00   0.00000000e+00   0.00000000e+00\n",
      "    0.00000000e+00   0.00000000e+00   0.00000000e+00   0.00000000e+00\n",
      "    0.00000000e+00   0.00000000e+00   0.00000000e+00   0.00000000e+00\n",
      "    0.00000000e+00   0.00000000e+00   0.00000000e+00   0.00000000e+00\n",
      "    0.00000000e+00   0.00000000e+00   0.00000000e+00   0.00000000e+00\n",
      "    0.00000000e+00   0.00000000e+00   0.00000000e+00   0.00000000e+00\n",
      "    0.00000000e+00   0.00000000e+00   0.00000000e+00   0.00000000e+00\n",
      "    0.00000000e+00   0.00000000e+00   0.00000000e+00   0.00000000e+00\n",
      "    0.00000000e+00   0.00000000e+00   0.00000000e+00   0.00000000e+00\n",
      "    0.00000000e+00   1.08375628e-06   0.00000000e+00   0.00000000e+00\n",
      "    0.00000000e+00   0.00000000e+00   0.00000000e+00   0.00000000e+00\n",
      "    0.00000000e+00   0.00000000e+00   0.00000000e+00   0.00000000e+00\n",
      "    0.00000000e+00   0.00000000e+00   0.00000000e+00   0.00000000e+00\n",
      "    0.00000000e+00   0.00000000e+00   0.00000000e+00   0.00000000e+00\n",
      "    0.00000000e+00   0.00000000e+00   0.00000000e+00   0.00000000e+00\n",
      "    0.00000000e+00   0.00000000e+00   0.00000000e+00   0.00000000e+00\n",
      "    0.00000000e+00   0.00000000e+00   0.00000000e+00   0.00000000e+00\n",
      "    0.00000000e+00   0.00000000e+00   0.00000000e+00   0.00000000e+00\n",
      "    0.00000000e+00   0.00000000e+00   0.00000000e+00   0.00000000e+00\n",
      "    0.00000000e+00   0.00000000e+00   0.00000000e+00   0.00000000e+00\n",
      "    0.00000000e+00   0.00000000e+00   0.00000000e+00   0.00000000e+00\n",
      "    0.00000000e+00   0.00000000e+00  -2.54026019e-06   6.44470497e-07\n",
      "    0.00000000e+00   0.00000000e+00   0.00000000e+00   0.00000000e+00\n",
      "    0.00000000e+00   0.00000000e+00   0.00000000e+00   0.00000000e+00\n",
      "    0.00000000e+00   0.00000000e+00   0.00000000e+00   0.00000000e+00\n",
      "    0.00000000e+00   0.00000000e+00   0.00000000e+00   0.00000000e+00\n",
      "    0.00000000e+00   0.00000000e+00   0.00000000e+00   0.00000000e+00\n",
      "    0.00000000e+00   3.18369017e-07   0.00000000e+00   0.00000000e+00\n",
      "    0.00000000e+00   0.00000000e+00   0.00000000e+00   0.00000000e+00]\n",
      " [  2.04173791e-03  -5.86719361e-05   5.70923147e-03  -9.03168549e-03\n",
      "   -1.86199523e-02  -3.43775485e-02  -3.41452296e-02   6.36102226e-05\n",
      "   -1.00039977e-03  -2.37531145e-03   1.19320307e-04   8.47173904e-06\n",
      "   -4.25807880e-04  -1.88856207e-04  -5.69431934e-04   3.82306386e-03\n",
      "   -1.44741788e-04  -1.16785767e-04   5.93101904e-05   2.30060140e-05\n",
      "   -2.65235892e-03  -1.23045984e-03   5.78817487e-06   1.86676822e-04\n",
      "    7.80327883e-05   5.08735618e-05  -8.89033321e-04  -2.47651028e-05\n",
      "    2.78142491e-07  -1.21944758e-04   1.96904121e-04   3.63485840e-04\n",
      "    2.24296082e-04  -1.53739148e-04  -9.95968501e-04  -1.15648668e-04\n",
      "    4.61964694e-05  -1.69495307e-04   1.72279894e-04   2.53320814e-04\n",
      "    3.02553679e-04  -2.38647394e-05   5.51978947e-04  -8.55408166e-05\n",
      "    1.40893594e-04  -2.50973675e-04   7.88072424e-04   4.65843118e-04\n",
      "   -2.73925395e-04   2.92661867e-04  -3.88794402e-06  -2.40265479e-04\n",
      "    1.05593782e-04  -1.64462049e-04   6.66057111e-07  -2.47629462e-04\n",
      "   -7.85744189e-04   4.41875705e-04   5.16881858e-04   0.00000000e+00\n",
      "   -9.32510550e-05   7.16755458e-04   1.72362967e-04  -5.62747811e-05\n",
      "    1.57099106e-04   0.00000000e+00  -4.57291824e-04  -1.98373209e-04\n",
      "   -3.37573584e-04   4.24087722e-03  -9.12183653e-04  -3.85426655e-05\n",
      "   -2.89251050e-05   1.64901616e-05  -3.09951786e-03  -8.58426927e-04\n",
      "    2.02004677e-04   7.98039494e-05   1.12945909e-04  -9.84065490e-04\n",
      "    9.70731547e-06   4.77868322e-07  -1.39033914e-04   1.80882215e-04\n",
      "    3.97946689e-04   3.54287603e-04  -2.30939363e-06  -9.84867516e-04\n",
      "    3.49667697e-05  -1.65812230e-04   9.19006867e-05  -1.12459251e-04\n",
      "    1.76949892e-04   2.38300044e-04   3.26213353e-04  -1.88573931e-05\n",
      "    2.69856350e-04  -8.30260699e-05   1.82080282e-04   7.93517068e-05\n",
      "    8.07300515e-04   4.22804638e-04  -2.73925395e-04   1.68027495e-04\n",
      "   -2.13190819e-05  -2.42191719e-04   9.57688244e-05  -1.20996564e-04\n",
      "    7.81338470e-07  -2.24102162e-04  -8.26484217e-04   1.79066953e-04\n",
      "    4.98620267e-04  -5.40159239e-05   8.17459884e-04   2.23938627e-04\n",
      "   -5.14588939e-05   1.38394730e-04   2.69289024e-05  -2.46784716e-05\n",
      "    0.00000000e+00   4.72158398e-06  -9.18989223e-04  -3.59216706e-04\n",
      "   -1.71637758e-04   0.00000000e+00  -3.35402437e-03  -1.09664457e-03\n",
      "   -5.95008132e-04  -2.61920907e-04  -5.19692484e-04  -1.42233520e-03\n",
      "   -1.26297754e-03   0.00000000e+00   4.41297712e-05  -1.91380416e-04\n",
      "   -1.60842290e-04  -1.13135539e-03  -3.29742667e-04  -9.44860280e-05\n",
      "   -1.53907636e-04  -3.54736319e-05  -3.54997876e-04  -1.02595232e-04\n",
      "   -1.42760695e-04  -3.66362981e-04   2.72935136e-02  -1.38055946e-03\n",
      "   -3.32698330e-04  -1.63042691e-04  -2.04996359e-05  -1.22404304e-03\n",
      "    3.71366263e-05  -1.59838710e-04  -2.35694389e-04  -3.53900950e-04\n",
      "   -5.54112490e-05  -4.93430627e-04  -8.27106461e-04  -1.24102698e-03\n",
      "   -2.47796674e-04  -1.35089600e-04  -2.19874238e-04  -3.98613553e-04\n",
      "   -6.90933624e-05  -1.55174860e-07  -2.16499308e-04  -6.39389487e-04\n",
      "    1.58254033e-07  -3.24578338e-04  -1.21286929e-03  -2.38454000e-03\n",
      "   -1.63163120e-04  -9.33209743e-05  -6.21184096e-04  -5.13700362e-04\n",
      "   -5.51878248e-05   0.00000000e+00   1.08328910e-02   2.33275339e-05\n",
      "   -8.81463380e-03  -1.89419907e-03   2.33275339e-05   2.76530302e-05\n",
      "    1.97210833e-03  -1.89419907e-03  -1.82238836e-03   7.81241368e-04\n",
      "   -6.63721877e-05   1.25517733e-03   2.84556330e-07   5.89507632e-06\n",
      "    2.10861816e-06  -1.20425562e-03  -8.13556420e-06  -2.30290199e-04\n",
      "    4.26028958e-04   1.52565800e-03  -2.69840422e-03   6.14948125e-05\n",
      "    2.56496162e-05   1.65530348e-05   7.33448391e-08  -8.50327877e-04\n",
      "   -9.56990460e-04   1.29385365e-03  -4.15522242e-09   7.79083757e-05\n",
      "   -1.44886302e-04   5.55876123e-04  -1.16641281e-03  -8.90734038e-03\n",
      "   -8.83234484e-04   1.79320288e-06   0.00000000e+00   1.31963628e-02]]\n"
     ]
    }
   ],
   "source": [
    "lr.decision_function(x_train)\n",
    "print lr.coef_"
   ]
  },
  {
   "cell_type": "code",
   "execution_count": 63,
   "metadata": {},
   "outputs": [
    {
     "name": "stdout",
     "output_type": "stream",
     "text": [
      "train:  0.837450108336\n",
      "test:  0.837620872104\n"
     ]
    }
   ],
   "source": [
    "# fit on training data to see if there is underfitting\n",
    "y_pred_train = lr.predict(x_train)\n",
    "print 'train: ', np.sum(y_pred_train == y_train_logit) *1./ y_train_logit.shape[0]\n",
    "\n",
    "# fit on test set to see if there is overfitting\n",
    "y_pred_test = lr.predict(x_test)\n",
    "print 'test: ', np.sum(y_pred_test == y_test_logit) *1./ y_test_logit.shape[0]"
   ]
  },
  {
   "cell_type": "code",
   "execution_count": 64,
   "metadata": {},
   "outputs": [
    {
     "name": "stdout",
     "output_type": "stream",
     "text": [
      "             precision    recall  f1-score   support\n",
      "\n",
      "     CHGOFF       1.00      0.00      0.00       891\n",
      "        PIF       0.84      1.00      0.91      4590\n",
      "\n",
      "avg / total       0.86      0.84      0.76      5481\n",
      "\n"
     ]
    }
   ],
   "source": [
    "from sklearn import metrics\n",
    "\n",
    "print metrics.classification_report(y_test_logit, y_pred_test)"
   ]
  },
  {
   "cell_type": "code",
   "execution_count": null,
   "metadata": {
    "collapsed": true
   },
   "outputs": [],
   "source": []
  }
 ],
 "metadata": {
  "kernelspec": {
   "display_name": "Python 2",
   "language": "python",
   "name": "python2"
  },
  "language_info": {
   "codemirror_mode": {
    "name": "ipython",
    "version": 2
   },
   "file_extension": ".py",
   "mimetype": "text/x-python",
   "name": "python",
   "nbconvert_exporter": "python",
   "pygments_lexer": "ipython2",
   "version": "2.7.14"
  }
 },
 "nbformat": 4,
 "nbformat_minor": 2
}
