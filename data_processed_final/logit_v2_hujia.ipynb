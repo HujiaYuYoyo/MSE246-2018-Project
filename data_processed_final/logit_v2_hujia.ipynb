{
 "cells": [
  {
   "cell_type": "code",
<<<<<<< HEAD
   "execution_count": 56,
   "metadata": {},
=======
   "execution_count": 49,
   "metadata": {
    "collapsed": true
   },
>>>>>>> da14f41b49637ecc50db696ed93039dd2d0b07fe
   "outputs": [],
   "source": [
    "import pandas as pd\n",
    "import numpy as np\n",
    "\n",
    "eps = 10**-8"
   ]
  },
  {
   "cell_type": "code",
<<<<<<< HEAD
   "execution_count": 3,
   "metadata": {},
=======
   "execution_count": 50,
   "metadata": {
    "collapsed": true
   },
>>>>>>> da14f41b49637ecc50db696ed93039dd2d0b07fe
   "outputs": [],
   "source": [
    "# train = pd.read_csv(\"output/sorted_train0310.csv\")\n",
    "# test = pd.read_csv(\"output/sorted_test0310.csv\")\n",
    "# val = pd.read_csv(\"output/sorted_val0310.csv\")"
   ]
  },
  {
   "cell_type": "code",
<<<<<<< HEAD
   "execution_count": 2,
   "metadata": {},
=======
   "execution_count": 51,
   "metadata": {
    "collapsed": true
   },
>>>>>>> da14f41b49637ecc50db696ed93039dd2d0b07fe
   "outputs": [],
   "source": [
    "train = pd.read_csv(\"output/random_train0310.csv\")\n",
    "test = pd.read_csv(\"output/random_test0310.csv\")\n",
    "val = pd.read_csv(\"output/random_val0310.csv\")\n",
    "\n",
    "train = train[train.LoanStatus != \"MISSING\"]\n",
    "test = test[test.LoanStatus != \"MISSING\"]\n",
    "val = val[val.LoanStatus != \"MISSING\"]"
   ]
  },
  {
   "cell_type": "code",
<<<<<<< HEAD
   "execution_count": 3,
=======
   "execution_count": 52,
   "metadata": {},
   "outputs": [
    {
     "name": "stdout",
     "output_type": "stream",
     "text": [
      "['PIF' 'CHGOFF']\n",
      "['PIF' 'CHGOFF']\n",
      "['CHGOFF' 'PIF']\n"
     ]
    }
   ],
   "source": [
    "train = train[train['LoanStatus'] != 'MISSING']\n",
    "test = test[test['LoanStatus'] != 'MISSING']\n",
    "val = val[val['LoanStatus'] != 'MISSING']\n",
    "print train['LoanStatus'].unique()\n",
    "print test['LoanStatus'].unique()\n",
    "print val['LoanStatus'].unique()"
   ]
  },
  {
   "cell_type": "code",
   "execution_count": 53,
>>>>>>> da14f41b49637ecc50db696ed93039dd2d0b07fe
   "metadata": {},
   "outputs": [
    {
     "name": "stdout",
     "output_type": "stream",
     "text": [
      "Train set:\n",
      "Chargeoffs: 7124\n",
      "Percentage of loans that defaulted: 0.16248517471\n",
<<<<<<< HEAD
      "\n",
      "Test set:\n",
=======
>>>>>>> da14f41b49637ecc50db696ed93039dd2d0b07fe
      "Chargeoffs: 891\n",
      "Percentage of loans that defaulted: 0.162561576355\n"
     ]
    }
   ],
   "source": [
    "# Compute some statistics\n",
    "print 'Train set:'\n",
    "chargeoff_count = (train.LoanStatus == \"CHGOFF\").sum()\n",
    "print 'Chargeoffs:', chargeoff_count\n",
    "print 'Percentage of loans that defaulted:', float(chargeoff_count)/len(train)\n",
    "\n",
    "print '\\nTest set:'\n",
    "chargeoff_count = (test.LoanStatus == \"CHGOFF\").sum()\n",
    "print 'Chargeoffs:', chargeoff_count\n",
    "print 'Percentage of loans that defaulted:', float(chargeoff_count)/len(test)"
   ]
  },
  {
   "cell_type": "code",
<<<<<<< HEAD
   "execution_count": 82,
=======
   "execution_count": 54,
>>>>>>> da14f41b49637ecc50db696ed93039dd2d0b07fe
   "metadata": {},
   "outputs": [
    {
     "name": "stdout",
     "output_type": "stream",
     "text": [
<<<<<<< HEAD
      "43844.0 5481.0 5481.0\n"
=======
      "before drop:  43844\n",
      "after drop:  25468\n",
      "Chargeoffs: 7124\n",
      "Percentage of loans that defaulted: 0.279723574682\n",
      "Chargeoffs: 891\n",
      "Percentage of loans that defaulted: 0.162561576355\n"
>>>>>>> da14f41b49637ecc50db696ed93039dd2d0b07fe
     ]
    }
   ],
   "source": [
<<<<<<< HEAD
    "m_train = float(len(train))\n",
    "m_test = float(len(test))\n",
    "m_val = float(len(val))\n",
    "print m_train, m_test, m_val"
=======
    "####### optional ##########\n",
    "# if import from sorted data - need to downsample train dataset to be more balanced\n",
    "# can call the following function multiple times for decreasing in log term\n",
    "# dropping PIF samples with 50% probability\n",
    "\n",
    "def drop_half(train):\n",
    "    print 'before drop: ', train.shape[0]\n",
    "    dropidx = []\n",
    "    for idx, val in train['LoanStatus'].iteritems():\n",
    "        if val != 'CHGOFF':\n",
    "            rand = np.random.rand()\n",
    "            if rand < 0.5:\n",
    "                dropidx.append(idx)\n",
    "    train = train.drop(dropidx)\n",
    "    print 'after drop: ', train.shape[0]\n",
    "    return train\n",
    "    \n",
    "train = drop_half(train)\n",
    "# train = drop_half(train)\n",
    "# test = drop_half(test)\n",
    "\n",
    "chargeoff_count = (train['LoanStatus'] == \"CHGOFF\").sum()\n",
    "print 'Chargeoffs:', chargeoff_count\n",
    "print 'Percentage of loans that defaulted:', float(chargeoff_count)/len(train)\n",
    "\n",
    "chargeoff_count = (test['LoanStatus'] == \"CHGOFF\").sum()\n",
    "print 'Chargeoffs:', chargeoff_count\n",
    "print 'Percentage of loans that defaulted:', float(chargeoff_count)/len(test)"
>>>>>>> da14f41b49637ecc50db696ed93039dd2d0b07fe
   ]
  },
  {
   "cell_type": "code",
<<<<<<< HEAD
   "execution_count": 5,
=======
   "execution_count": 55,
   "metadata": {
    "collapsed": true
   },
   "outputs": [],
   "source": [
    "# Define a function to generalize states to regions in order to increase frequency in each column \n",
    "West = ['AZ', 'CO', 'ID', 'MT', 'NV', 'NM', 'UT', 'WY', 'AK', 'CA', 'HI', 'OR', 'WA']\n",
    "Midwest = ['IL', 'IN', 'MI', 'OH', 'WI', 'IA', 'KS', 'MN', 'MO', 'NE', 'ND', 'SD']\n",
    "South = ['DE', 'FL', 'GA', 'MD', 'NC', 'SC', 'VA', 'WV', 'DC', 'AL', 'KY', 'MS', 'TN', 'TX', 'OK', 'LA', 'AR']\n",
    "Northeast = ['CT', 'ME', 'MA', 'NH', 'RI', 'VT', 'NJ', 'NY', 'PA']\n",
    "Territory = ['GU', 'PR', 'VI']\n",
    "\n",
    "def add_region_columns(df):\n",
    "    in_west = []\n",
    "    in_midwest = []\n",
    "    in_south = []\n",
    "    in_northeast = []\n",
    "    in_territory = []\n",
    "    for index, row in df.iterrows():\n",
    "        state = row[\"BorrState\"]\n",
    "        if state in West:\n",
    "            in_west.append(1)\n",
    "            in_midwest.append(0)\n",
    "            in_south.append(0)\n",
    "            in_northeast.append(0)\n",
    "            in_territory.append(0)\n",
    "        elif state in Midwest:\n",
    "            in_west.append(0)\n",
    "            in_midwest.append(1)\n",
    "            in_south.append(0)\n",
    "            in_northeast.append(0)\n",
    "            in_territory.append(0)\n",
    "        elif state in South:\n",
    "            in_west.append(0)\n",
    "            in_midwest.append(0)\n",
    "            in_south.append(1)\n",
    "            in_northeast.append(0)\n",
    "            in_territory.append(0)\n",
    "        elif state in Northeast:\n",
    "            in_west.append(0)\n",
    "            in_midwest.append(0)\n",
    "            in_south.append(0)\n",
    "            in_northeast.append(1)\n",
    "            in_territory.append(0)\n",
    "        elif state in Territory:\n",
    "            in_west.append(0)\n",
    "            in_midwest.append(0)\n",
    "            in_south.append(0)\n",
    "            in_northeast.append(0)\n",
    "            in_territory.append(1)\n",
    "        else:\n",
    "            print \"Error - this state isn't in the regions:\", state\n",
    "        \n",
    "    df['BorrRegion_West'] = pd.Series(in_west).values\n",
    "    df['BorrRegion_Midwest'] = pd.Series(in_midwest).values\n",
    "    df['BorrRegion_South'] = pd.Series(in_south).values\n",
    "    df['BorrRegion_Northeast'] = pd.Series(in_northeast).values\n",
    "    df['BorrRegion_Territory'] = pd.Series(in_territory).values\n",
    "    df = df.drop('BorrState', axis = 1)\n",
    "    \n",
    "    return df"
   ]
  },
  {
   "cell_type": "code",
   "execution_count": 56,
   "metadata": {
    "collapsed": true
   },
   "outputs": [],
   "source": [
    "train = add_region_columns(train)\n",
    "test = add_region_columns(test)"
   ]
  },
  {
   "cell_type": "code",
   "execution_count": 57,
>>>>>>> da14f41b49637ecc50db696ed93039dd2d0b07fe
   "metadata": {},
   "outputs": [
    {
     "name": "stdout",
     "output_type": "stream",
     "text": [
      "['ApprovalFiscalYear', 'DeliveryMethod', 'subpgmdesc', 'TermInMonths', 'BusinessType', 'SP500_Yearly_Return', 'CPI', 'Log_GrossApproval_Norm', 'Log_HPI_Norm', 'ThirdPartyDollars_Norm', 'TermMultipleYear', 'RepeatBorrower', 'BankStateneqBorrowerState', 'ProjectStateneqBorrowerState', '2DigitNaics', 'BorrRegion_West', 'BorrRegion_Midwest', 'BorrRegion_South', 'BorrRegion_Northeast', 'BorrRegion_Territory']\n"
     ]
    }
   ],
   "source": [
    "# filtering for the columns you don't want to include for your model\n",
    "c = train.columns.tolist()\n",
    "c.remove('LoanStatus')\n",
    "c.remove('ChargeOffDate')\n",
    "c.remove('GrossChargeOffAmount')\n",
    "c.remove('BorrZip')\n",
    "c.remove('CDC_Zip')\n",
    "c.remove('BorrCity')\n",
    "c.remove('CDC_City')\n",
    "c.remove('ThirdPartyLender_City')\n",
    "# c.remove('BorrState')\n",
    "# c.remove('CDC_State')\n",
    "# c.remove('ThirdPartyLender_State')\n",
    "c.remove('ProjectCounty')\n",
    "c.remove('ProjectState')\n",
    "c.remove('ApprovalDate')\n",
    "c.remove('CDC_State')\n",
    "c.remove('ThirdPartyLender_State')\n",
    "print c"
   ]
  },
  {
   "cell_type": "code",
<<<<<<< HEAD
   "execution_count": 6,
   "metadata": {},
   "outputs": [
    {
     "name": "stdout",
     "output_type": "stream",
     "text": [
      "[ True False  True False False]\n"
     ]
    }
   ],
=======
   "execution_count": 58,
   "metadata": {},
   "outputs": [],
>>>>>>> da14f41b49637ecc50db696ed93039dd2d0b07fe
   "source": [
    "x_train = train[c]\n",
    "x_train = x_train.select_dtypes(exclude=['int64', 'float64'])\n",
    "x_test = test[c]\n",
<<<<<<< HEAD
    "x_val = val[c]\n",
=======
    "x_test = x_test.select_dtypes(exclude=['int64', 'float64'])\n",
>>>>>>> da14f41b49637ecc50db696ed93039dd2d0b07fe
    "\n",
    "y_train_logit = train['LoanStatus'].values == \"CHGOFF\"\n",
    "y_test_logit = test['LoanStatus'].values == \"CHGOFF\"\n",
    "y_val_logit = val['LoanStatus'].values == \"CHGOFF\"\n",
    "\n",
    "print(y_val_logit[:5])\n",
    "\n",
    "# hazard_target = train['ChargeOffDate']\n",
    "# amount_target = train['GrossChargeOffAmount']\n",
    "\n",
    "# print train.dtypes\n",
    "# convert categorical variables to dummy variables\n",
    "x_train = pd.get_dummies(x_train)\n",
    "x_test = pd.get_dummies(x_test)\n",
    "x_val = pd.get_dummies(x_val)"
   ]
  },
  {
   "cell_type": "code",
<<<<<<< HEAD
   "execution_count": 11,
=======
   "execution_count": 67,
   "metadata": {},
   "outputs": [
    {
     "name": "stdout",
     "output_type": "stream",
     "text": [
      "\n"
     ]
    }
   ],
   "source": [
    "y_train_logit = train['LoanStatus']\n",
    "y_train_logit = [y_train_logit == 'CHGOFF']\n",
    "y_train_logit = np.reshape(y_train_logit, (len(y_train_logit[0]),))\n",
    "\n",
    "y_test_logit = test['LoanStatus']\n",
    "y_test_logit = [y_test_logit == 'CHGOFF']\n",
    "y_test_logit = np.reshape(y_test_logit, (len(y_test_logit[0]),))"
   ]
  },
  {
   "cell_type": "code",
   "execution_count": 68,
>>>>>>> da14f41b49637ecc50db696ed93039dd2d0b07fe
   "metadata": {},
   "outputs": [
    {
     "name": "stdout",
     "output_type": "stream",
     "text": [
      "before fix columns: \n",
<<<<<<< HEAD
      "(43844, 216)\n",
      "(5481, 208)\n",
      "(5481, 208)\n",
      "after fix columns: \n",
      "(43844, 216)\n",
      "(5481, 216)\n",
      "(5481, 216)\n"
=======
      "(25468, 41)\n",
      "(5481, 41)\n",
      "after fix columns: \n",
      "(25468, 41)\n",
      "(5481, 41)\n"
>>>>>>> da14f41b49637ecc50db696ed93039dd2d0b07fe
     ]
    }
   ],
   "source": [
    "# to get consistent feature dimensions for both train and test dataset\n",
    "def add_missing_dummy_columns(d1, d2):\n",
    "    missing_cols = set(d1.columns) - set(d2.columns)\n",
    "    for c in missing_cols:\n",
    "        d2[c] = 0\n",
    "    return d2\n",
    "\n",
    "print 'before fix columns: '\n",
    "print x_train.shape\n",
    "print x_test.shape\n",
    "print x_val.shape\n",
    "\n",
    "def fix_columns(x_train, x_test):  \n",
    "\n",
    "    x_test = add_missing_dummy_columns(x_train, x_test)\n",
    "\n",
    "    extra_cols = set(x_test.columns) - set(x_train.columns)\n",
    "    x_test = x_test[x_train.columns]\n",
    "    return x_test\n",
    "\n",
    "x_test = fix_columns(x_train, x_test)\n",
    "x_val = fix_columns(x_train, x_val)\n",
    "print 'after fix columns: '\n",
    "print x_train.shape\n",
    "print x_test.shape\n",
    "print x_val.shape"
   ]
  },
  {
   "cell_type": "code",
<<<<<<< HEAD
   "execution_count": 8,
=======
   "execution_count": 69,
>>>>>>> da14f41b49637ecc50db696ed93039dd2d0b07fe
   "metadata": {},
   "outputs": [
    {
     "data": {
      "text/plain": [
       "LogisticRegression(C=50.0, class_weight=None, dual=False, fit_intercept=True,\n",
       "          intercept_scaling=1, max_iter=200, multi_class='ovr', n_jobs=1,\n",
       "          penalty='l2', random_state=None, solver='liblinear', tol=0.0001,\n",
       "          verbose=0, warm_start=False)"
      ]
     },
<<<<<<< HEAD
     "execution_count": 8,
=======
     "execution_count": 69,
>>>>>>> da14f41b49637ecc50db696ed93039dd2d0b07fe
     "metadata": {},
     "output_type": "execute_result"
    }
   ],
   "source": [
    "# fit to models \n",
    "# below is to fit to logit model\n",
    "\n",
    "# y_train_logit = np.reshape(l, (len(l),))\n",
    "from sklearn.linear_model import LogisticRegression\n",
    "solver = 'liblinear'\n",
    "\n",
    "lr = LogisticRegression(solver=solver, \n",
    "                        multi_class= 'ovr', \n",
    "                        C=50.,\n",
    "                        penalty = 'l2',\n",
    "                        fit_intercept=True,\n",
    "                        max_iter=200,\n",
    "                        random_state=None, \n",
    "                       )\n",
    "lr.fit(x_train, y_train_logit)"
   ]
  },
  {
   "cell_type": "code",
   "execution_count": 14,
   "metadata": {},
   "outputs": [
    {
     "name": "stdout",
     "output_type": "stream",
     "text": [
      "[[0.75561166 0.24438834]\n",
      " [0.99101166 0.00898834]\n",
      " [0.45691607 0.54308393]\n",
      " [0.56561744 0.43438256]\n",
      " [0.92069509 0.07930491]]\n"
     ]
    }
   ],
   "source": [
    "y_probs_val = lr.predict_proba(x_val)\n",
    "print y_probs_val[:5]"
   ]
  },
  {
   "cell_type": "code",
   "execution_count": 44,
   "metadata": {},
   "outputs": [
    {
     "name": "stdout",
     "output_type": "stream",
     "text": [
      "[[ True]\n",
      " [False]\n",
      " [ True]\n",
      " [ True]\n",
      " [False]]\n",
      "\n",
      "validation accuracy 0.7914614121510674\n",
      "false positive rate 0.1942844483397686\n",
      "true positive rate 0.7249224397880843\n"
     ]
    }
   ],
   "source": [
    "y_preds_val = y_probs_val[:,1] > 0.2\n",
    "print y_preds_val[:5].reshape(5,1)\n",
    "print \"\\n\", \"validation accuracy\", np.sum(y_preds_val == y_val_logit, dtype=float) / m_val\n",
    "print \"false positive rate\",  np.sum((y_val_logit == 0) * (y_preds_val == 1)) / (np.sum(y_val_logit == 0, dtype=float) + eps)\n",
    "print \"true positive rate\", np.sum((y_val_logit == 1) * (y_preds_val == 1)) / (np.sum(y_val_logit == 1, dtype=float) + eps)"
   ]
  },
  {
   "cell_type": "code",
   "execution_count": 69,
   "metadata": {},
   "outputs": [
    {
     "data": {
      "image/png": "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\n",
      "text/plain": [
       "<Figure size 432x288 with 1 Axes>"
      ]
     },
     "metadata": {},
     "output_type": "display_data"
    }
   ],
   "source": [
    "import matplotlib.pyplot as plt\n",
    "fprs = []\n",
    "tprs = []\n",
    "step_size = 0.0001\n",
    "for threshold in np.arange(0.001,1,step_size):\n",
    "    y_preds_val = y_probs_val[:,1] > threshold\n",
    "    num_pos = np.sum(y_preds_val == 1, dtype=float) + eps\n",
    "    fprs.append(np.sum((y_val_logit == 0) * (y_preds_val == 1)) / (np.sum(y_val_logit == 0, dtype=float) + eps))\n",
    "    tprs.append(np.sum((y_val_logit == 1) * (y_preds_val == 1)) / (np.sum(y_val_logit == 1, dtype=float) + eps))\n",
    "\n",
    "plt.plot(fprs,tprs)\n",
    "plt.title(\"ROC curve for Logistic Regression\")\n",
    "plt.ylabel(\"true positive rate\")\n",
    "plt.xlabel(\"false positive rate\")\n",
    "plt.show()"
   ]
  },
  {
   "cell_type": "code",
   "execution_count": 70,
   "metadata": {},
   "outputs": [
    {
     "name": "stdout",
     "output_type": "stream",
     "text": [
      "0.8390052961632906\n"
     ]
    }
   ],
   "source": [
    "x_prev = 0.000\n",
    "auc = 0.\n",
    "for x, y in zip(sorted(fprs), sorted(tprs)):\n",
    "    auc += (x - x_prev)*y\n",
    "    x_prev = x\n",
    "print(auc)"
   ]
  },
  {
   "cell_type": "code",
   "execution_count": 71,
   "metadata": {},
   "outputs": [
    {
     "name": "stdout",
     "output_type": "stream",
     "text": [
      "best threshold:  0.1589\n",
      "highest sensitivity:  0.7776628748626923\n",
      "highest specificity:  0.7636242800182462\n"
     ]
    }
   ],
   "source": [
    "senses = np.array(tprs, dtype=float) + eps\n",
    "specs = 1 - np.array(fprs, dtype=float) + eps\n",
    "h_mean = 2. / (1 / senses + 1 / specs)\n",
    "opt_index = np.argmax(h_mean)\n",
    "opt_threshold = opt_index*step_size\n",
    "\n",
    "print \"best threshold: \" , opt_threshold\n",
    "print \"highest sensitivity: \", tprs[opt_index]\n",
    "print \"highest specificity: \", 1 - fprs[opt_index]"
   ]
  },
  {
   "cell_type": "code",
   "execution_count": 84,
   "metadata": {},
   "outputs": [
    {
     "data": {
      "text/plain": [
       "array([False, False, False, False, False,  True, False, False, False,\n",
       "       False, False,  True,  True,  True, False, False,  True, False,\n",
       "       False, False], dtype=bool)"
      ]
     },
     "execution_count": 62,
     "metadata": {},
     "output_type": "execute_result"
    }
   ],
   "source": [
    "y_train_logit[:20]"
   ]
  },
  {
   "cell_type": "code",
   "execution_count": 74,
   "metadata": {},
   "outputs": [],
   "source": [
    "# from sklearn.metrics import roc_curve, auc\n",
    "\n",
    "# y_score = lr.decision_function(x_train)\n",
    "# y_train_logit = pd.get_dummies(y_train_logit)\n",
    "\n",
    "# # Compute ROC curve and ROC area for each class\n",
    "# fpr = dict()\n",
    "# tpr = dict()\n",
    "# roc_auc = dict()\n",
    "# for i in range(3):\n",
    "#     fpr[i], tpr[i], _ = roc_curve(y_train_logit.loc[:,i], y_score[:,i])\n",
    "#     roc_auc[i] = auc(fpr[i], tpr[i])\n",
    "    \n",
    "# # Compute micro-average ROC curve and ROC area\n",
    "# fpr[\"micro\"], tpr[\"micro\"], _ = roc_curve(y_test.ravel(), y_score.ravel())\n",
    "# roc_auc[\"micro\"] = auc(fpr[\"micro\"], tpr[\"micro\"])\n",
    "\n",
    "# plt.figure()\n",
    "# lw = 2\n",
    "# plt.plot(fpr[2], tpr[2], color='darkorange',\n",
    "#          lw=lw, label='ROC curve (area = %0.2f)' % roc_auc[2])\n",
    "# plt.plot([0, 1], [0, 1], color='navy', lw=lw, linestyle='--')\n",
    "# plt.xlim([0.0, 1.0])\n",
    "# plt.ylim([0.0, 1.05])\n",
    "# plt.xlabel('False Positive Rate')\n",
    "# plt.ylabel('True Positive Rate')\n",
    "# plt.title('Receiver operating characteristic example')\n",
    "# plt.legend(loc=\"lower right\")\n",
    "# plt.show()\n"
   ]
  },
  {
   "cell_type": "code",
   "execution_count": 70,
   "metadata": {},
   "outputs": [
    {
     "name": "stdout",
     "output_type": "stream",
     "text": [
<<<<<<< HEAD
      "[0.02726958 0.04958522 0.04048091 0.00968926 0.35262042]\n",
      "[False False False False  True]\n"
=======
      "[[ 0.04845539  0.18328816 -0.20666078 -0.11500865 -0.33445047  0.20163807\n",
      "   0.05489147 -0.33445047 -0.00250482  0.10642228  0.05489147  0.0131069\n",
      "  -0.03151477  0.85605229 -0.21505827  0.02691115  0.         -0.00780962\n",
      "   0.10000373  0.01830769  0.03753191 -0.1000586  -0.2631797   0.22280478\n",
      "  -0.05728869 -0.02630272 -0.04323988  0.01573401  0.31519248  0.44154718\n",
      "  -0.23635752  0.001677   -0.13625268  0.18796818 -0.1009836   0.37772968\n",
      "   0.61056473  0.09801381  0.          0.         -0.47121602]]\n"
>>>>>>> da14f41b49637ecc50db696ed93039dd2d0b07fe
     ]
    }
   ],
   "source": [
    "y_probs_train = lr.predict_proba(x_train)[:,1]\n",
    "y_preds_train = y_probs_train > opt_threshold\n",
    "\n",
    "y_probs_test = lr.predict_proba(x_test)[:,1]\n",
    "y_preds_test = y_probs_test > opt_threshold\n",
    "print y_probs_test[:5]\n",
    "print y_preds_test[:5]"
   ]
  },
  {
   "cell_type": "code",
<<<<<<< HEAD
   "execution_count": 85,
=======
   "execution_count": 71,
>>>>>>> da14f41b49637ecc50db696ed93039dd2d0b07fe
   "metadata": {},
   "outputs": [
    {
     "name": "stdout",
     "output_type": "stream",
     "text": [
<<<<<<< HEAD
      "Training set\n",
      "proportion of defaults:  0.3253580877657148\n",
      "accuracy:  0.7635936502143965\n",
      "\n",
      "Test set\n",
      "proportion of defaults:  0.31727786900200694\n",
      "accuracy:  0.7631819011129356\n"
=======
      "train:  0.739987435213\n",
      "test:  0.822295201606\n"
>>>>>>> da14f41b49637ecc50db696ed93039dd2d0b07fe
     ]
    }
   ],
   "source": [
    "# fit on training data to see if there is underfitting\n",
    "print 'Training set'\n",
    "print 'proportion of defaults: ', np.sum(y_preds_train == 1) / m_train\n",
    "print 'accuracy: ', np.sum(y_preds_train == y_train_logit) / m_train\n",
    "\n",
    "# fit on test set to see if there is overfitting\n",
    "print '\\nTest set'\n",
    "print 'proportion of defaults: ', np.sum(y_preds_test == 1) / m_test\n",
    "print 'accuracy: ', np.sum(y_preds_test == y_test_logit) / m_test"
   ]
  },
  {
   "cell_type": "code",
<<<<<<< HEAD
   "execution_count": null,
   "metadata": {},
   "outputs": [],
   "source": []
  },
  {
   "cell_type": "code",
   "execution_count": 56,
=======
   "execution_count": 72,
>>>>>>> da14f41b49637ecc50db696ed93039dd2d0b07fe
   "metadata": {},
   "outputs": [
    {
     "name": "stdout",
     "output_type": "stream",
     "text": [
      "Training set\n",
      "             precision    recall  f1-score   support\n",
      "\n",
<<<<<<< HEAD
      "     CHGOFF       0.35      0.00      0.00      7124\n",
      "        PIF       0.84      1.00      0.91     36720\n",
      "\n",
      "avg / total       0.76      0.84      0.76     43844\n",
      "\n",
      "\n",
      "Test set\n",
      "             precision    recall  f1-score   support\n",
      "\n",
      "     CHGOFF       0.70      0.01      0.02       891\n",
      "        PIF       0.84      1.00      0.91      4590\n",
      "\n",
      "avg / total       0.82      0.84      0.77      5481\n",
=======
      "      False       0.86      0.93      0.90      4590\n",
      "       True       0.42      0.25      0.31       891\n",
      "\n",
      "avg / total       0.79      0.82      0.80      5481\n",
>>>>>>> da14f41b49637ecc50db696ed93039dd2d0b07fe
      "\n"
     ]
    }
   ],
   "source": [
    "from sklearn import metrics\n",
    "\n",
    "print 'Training set'\n",
    "print metrics.classification_report(y_train_logit, y_pred_train)\n",
    "print '\\nTest set'\n",
    "print metrics.classification_report(y_test_logit, y_pred_test)"
   ]
  },
  {
   "cell_type": "code",
<<<<<<< HEAD
   "execution_count": 40,
   "metadata": {},
   "outputs": [
    {
     "name": "stdout",
     "output_type": "stream",
     "text": [
      "before drop:  43845\n",
      "after drop:  25440\n",
      "before drop:  25440\n",
      "after drop:  16330\n",
      "Chargeoffs: 7124\n",
      "Percentage of loans that defaulted: 0.436252296387\n",
      "Chargeoffs: 891\n",
      "Percentage of loans that defaulted: 0.162561576355\n"
     ]
    }
   ],
   "source": [
    "####### optional ##########\n",
    "# if import from sorted data - need to downsample train dataset to be more balanced\n",
    "# can call the following function multiple times for decreasing in log term\n",
    "# dropping PIF samples with 50% probability\n",
    "\n",
    "def drop_half(train):\n",
    "    print 'before drop: ', train.shape[0]\n",
    "    dropidx = []\n",
    "    for idx, val in train['LoanStatus'].iteritems():\n",
    "        if val != 'CHGOFF':\n",
    "            rand = np.random.rand()\n",
    "            if rand < 0.5:\n",
    "                dropidx.append(idx)\n",
    "    train = train.drop(dropidx)\n",
    "    print 'after drop: ', train.shape[0]\n",
    "    return train\n",
    "    \n",
    "train = drop_half(train)\n",
    "train = drop_half(train)\n",
    "# test = drop_half(test)\n",
    "\n",
    "chargeoff_count = (train['LoanStatus'] == \"CHGOFF\").sum()\n",
    "print 'Chargeoffs:', chargeoff_count\n",
    "print 'Percentage of loans that defaulted:', float(chargeoff_count)/len(train)\n",
    "\n",
    "chargeoff_count = (test['LoanStatus'] == \"CHGOFF\").sum()\n",
    "print 'Chargeoffs:', chargeoff_count\n",
    "print 'Percentage of loans that defaulted:', float(chargeoff_count)/len(test)"
   ]
=======
   "execution_count": 73,
   "metadata": {},
   "outputs": [
    {
     "data": {
      "text/plain": [
       "0.81919357781426749"
      ]
     },
     "execution_count": 73,
     "metadata": {},
     "output_type": "execute_result"
    }
   ],
   "source": [
    "from sklearn.linear_model import SGDClassifier\n",
    "clf = SGDClassifier(loss='hinge', penalty='l2',\n",
    "              alpha=1e-3, random_state=42,\n",
    "              max_iter=10, tol=None).fit(x_train, y_train_logit)\n",
    "predicted = clf.predict(x_test)\n",
    "np.mean(predicted == y_test_logit)   "
   ]
  },
  {
   "cell_type": "code",
   "execution_count": null,
   "metadata": {
    "collapsed": true
   },
   "outputs": [],
   "source": []
>>>>>>> da14f41b49637ecc50db696ed93039dd2d0b07fe
  }
 ],
 "metadata": {
  "kernelspec": {
   "display_name": "Python 2",
   "language": "python",
   "name": "python2"
  },
  "language_info": {
   "codemirror_mode": {
    "name": "ipython",
    "version": 2
   },
   "file_extension": ".py",
   "mimetype": "text/x-python",
   "name": "python",
   "nbconvert_exporter": "python",
   "pygments_lexer": "ipython2",
   "version": "2.7.14"
  }
 },
 "nbformat": 4,
 "nbformat_minor": 2
}
