{
 "cells": [
  {
   "cell_type": "code",
   "execution_count": 49,
   "metadata": {
    "collapsed": true
   },
   "outputs": [],
   "source": [
    "import pandas as pd\n",
    "import numpy as np"
   ]
  },
  {
   "cell_type": "code",
   "execution_count": 50,
   "metadata": {
    "collapsed": true
   },
   "outputs": [],
   "source": [
    "# train = pd.read_csv(\"output/sorted_train0310.csv\")\n",
    "# test = pd.read_csv(\"output/sorted_test0310.csv\")\n",
    "# val = pd.read_csv(\"output/sorted_val0310.csv\")"
   ]
  },
  {
   "cell_type": "code",
   "execution_count": 51,
   "metadata": {
    "collapsed": true
   },
   "outputs": [],
   "source": [
    "train = pd.read_csv(\"output/random_train0310.csv\")\n",
    "test = pd.read_csv(\"output/random_test0310.csv\")\n",
    "val = pd.read_csv(\"output/random_val0310.csv\")"
   ]
  },
  {
   "cell_type": "code",
   "execution_count": 52,
   "metadata": {},
   "outputs": [
    {
     "name": "stdout",
     "output_type": "stream",
     "text": [
      "['PIF' 'CHGOFF']\n",
      "['PIF' 'CHGOFF']\n",
      "['CHGOFF' 'PIF']\n"
     ]
    }
   ],
   "source": [
    "train = train[train['LoanStatus'] != 'MISSING']\n",
    "test = test[test['LoanStatus'] != 'MISSING']\n",
    "val = val[val['LoanStatus'] != 'MISSING']\n",
    "print train['LoanStatus'].unique()\n",
    "print test['LoanStatus'].unique()\n",
    "print val['LoanStatus'].unique()"
   ]
  },
  {
   "cell_type": "code",
   "execution_count": 53,
   "metadata": {},
   "outputs": [
    {
     "name": "stdout",
     "output_type": "stream",
     "text": [
      "Chargeoffs: 7124\n",
      "Percentage of loans that defaulted: 0.16248517471\n",
      "Chargeoffs: 891\n",
      "Percentage of loans that defaulted: 0.162561576355\n"
     ]
    }
   ],
   "source": [
    "# Compute some statistics\n",
    "chargeoff_count = (train['LoanStatus'] == \"CHGOFF\").sum()\n",
    "print 'Chargeoffs:', chargeoff_count\n",
    "print 'Percentage of loans that defaulted:', float(chargeoff_count)/len(train)\n",
    "\n",
    "chargeoff_count = (test['LoanStatus'] == \"CHGOFF\").sum()\n",
    "print 'Chargeoffs:', chargeoff_count\n",
    "print 'Percentage of loans that defaulted:', float(chargeoff_count)/len(test)"
   ]
  },
  {
   "cell_type": "code",
   "execution_count": 54,
   "metadata": {},
   "outputs": [
    {
     "name": "stdout",
     "output_type": "stream",
     "text": [
      "before drop:  43844\n",
      "after drop:  25468\n",
      "Chargeoffs: 7124\n",
      "Percentage of loans that defaulted: 0.279723574682\n",
      "Chargeoffs: 891\n",
      "Percentage of loans that defaulted: 0.162561576355\n"
     ]
    }
   ],
   "source": [
    "####### optional ##########\n",
    "# if import from sorted data - need to downsample train dataset to be more balanced\n",
    "# can call the following function multiple times for decreasing in log term\n",
    "# dropping PIF samples with 50% probability\n",
    "\n",
    "def drop_half(train):\n",
    "    print 'before drop: ', train.shape[0]\n",
    "    dropidx = []\n",
    "    for idx, val in train['LoanStatus'].iteritems():\n",
    "        if val != 'CHGOFF':\n",
    "            rand = np.random.rand()\n",
    "            if rand < 0.5:\n",
    "                dropidx.append(idx)\n",
    "    train = train.drop(dropidx)\n",
    "    print 'after drop: ', train.shape[0]\n",
    "    return train\n",
    "    \n",
    "train = drop_half(train)\n",
    "# train = drop_half(train)\n",
    "# test = drop_half(test)\n",
    "\n",
    "chargeoff_count = (train['LoanStatus'] == \"CHGOFF\").sum()\n",
    "print 'Chargeoffs:', chargeoff_count\n",
    "print 'Percentage of loans that defaulted:', float(chargeoff_count)/len(train)\n",
    "\n",
    "chargeoff_count = (test['LoanStatus'] == \"CHGOFF\").sum()\n",
    "print 'Chargeoffs:', chargeoff_count\n",
    "print 'Percentage of loans that defaulted:', float(chargeoff_count)/len(test)"
   ]
  },
  {
   "cell_type": "code",
   "execution_count": 55,
   "metadata": {
    "collapsed": true
   },
   "outputs": [],
   "source": [
    "# Define a function to generalize states to regions in order to increase frequency in each column \n",
    "West = ['AZ', 'CO', 'ID', 'MT', 'NV', 'NM', 'UT', 'WY', 'AK', 'CA', 'HI', 'OR', 'WA']\n",
    "Midwest = ['IL', 'IN', 'MI', 'OH', 'WI', 'IA', 'KS', 'MN', 'MO', 'NE', 'ND', 'SD']\n",
    "South = ['DE', 'FL', 'GA', 'MD', 'NC', 'SC', 'VA', 'WV', 'DC', 'AL', 'KY', 'MS', 'TN', 'TX', 'OK', 'LA', 'AR']\n",
    "Northeast = ['CT', 'ME', 'MA', 'NH', 'RI', 'VT', 'NJ', 'NY', 'PA']\n",
    "Territory = ['GU', 'PR', 'VI']\n",
    "\n",
    "def add_region_columns(df):\n",
    "    in_west = []\n",
    "    in_midwest = []\n",
    "    in_south = []\n",
    "    in_northeast = []\n",
    "    in_territory = []\n",
    "    for index, row in df.iterrows():\n",
    "        state = row[\"BorrState\"]\n",
    "        if state in West:\n",
    "            in_west.append(1)\n",
    "            in_midwest.append(0)\n",
    "            in_south.append(0)\n",
    "            in_northeast.append(0)\n",
    "            in_territory.append(0)\n",
    "        elif state in Midwest:\n",
    "            in_west.append(0)\n",
    "            in_midwest.append(1)\n",
    "            in_south.append(0)\n",
    "            in_northeast.append(0)\n",
    "            in_territory.append(0)\n",
    "        elif state in South:\n",
    "            in_west.append(0)\n",
    "            in_midwest.append(0)\n",
    "            in_south.append(1)\n",
    "            in_northeast.append(0)\n",
    "            in_territory.append(0)\n",
    "        elif state in Northeast:\n",
    "            in_west.append(0)\n",
    "            in_midwest.append(0)\n",
    "            in_south.append(0)\n",
    "            in_northeast.append(1)\n",
    "            in_territory.append(0)\n",
    "        elif state in Territory:\n",
    "            in_west.append(0)\n",
    "            in_midwest.append(0)\n",
    "            in_south.append(0)\n",
    "            in_northeast.append(0)\n",
    "            in_territory.append(1)\n",
    "        else:\n",
    "            print \"Error - this state isn't in the regions:\", state\n",
    "        \n",
    "    df['BorrRegion_West'] = pd.Series(in_west).values\n",
    "    df['BorrRegion_Midwest'] = pd.Series(in_midwest).values\n",
    "    df['BorrRegion_South'] = pd.Series(in_south).values\n",
    "    df['BorrRegion_Northeast'] = pd.Series(in_northeast).values\n",
    "    df['BorrRegion_Territory'] = pd.Series(in_territory).values\n",
    "    df = df.drop('BorrState', axis = 1)\n",
    "    \n",
    "    return df"
   ]
  },
  {
   "cell_type": "code",
   "execution_count": 56,
   "metadata": {
    "collapsed": true
   },
   "outputs": [],
   "source": [
    "train = add_region_columns(train)\n",
    "test = add_region_columns(test)"
   ]
  },
  {
   "cell_type": "code",
   "execution_count": 57,
   "metadata": {},
   "outputs": [
    {
     "name": "stdout",
     "output_type": "stream",
     "text": [
      "['ApprovalFiscalYear', 'DeliveryMethod', 'subpgmdesc', 'TermInMonths', 'BusinessType', 'SP500_Yearly_Return', 'CPI', 'Log_GrossApproval_Norm', 'Log_HPI_Norm', 'ThirdPartyDollars_Norm', 'TermMultipleYear', 'RepeatBorrower', 'BankStateneqBorrowerState', 'ProjectStateneqBorrowerState', '2DigitNaics', 'BorrRegion_West', 'BorrRegion_Midwest', 'BorrRegion_South', 'BorrRegion_Northeast', 'BorrRegion_Territory']\n"
     ]
    }
   ],
   "source": [
    "# filtering for the columns you don't want to include for your model\n",
    "c = train.columns.tolist()\n",
    "c.remove('LoanStatus')\n",
    "c.remove('ChargeOffDate')\n",
    "c.remove('GrossChargeOffAmount')\n",
    "c.remove('BorrZip')\n",
    "c.remove('CDC_Zip')\n",
    "c.remove('BorrCity')\n",
    "c.remove('CDC_City')\n",
    "c.remove('ThirdPartyLender_City')\n",
    "# c.remove('BorrState')\n",
    "# c.remove('CDC_State')\n",
    "# c.remove('ThirdPartyLender_State')\n",
    "c.remove('ProjectCounty')\n",
    "c.remove('ProjectState')\n",
    "c.remove('ApprovalDate')\n",
    "c.remove('CDC_State')\n",
    "c.remove('ThirdPartyLender_State')\n",
    "print c"
   ]
  },
  {
   "cell_type": "code",
   "execution_count": 58,
   "metadata": {},
   "outputs": [],
   "source": [
    "x_train = train[c]\n",
    "x_train = x_train.select_dtypes(exclude=['int64', 'float64'])\n",
    "x_test = test[c]\n",
    "x_test = x_test.select_dtypes(exclude=['int64', 'float64'])\n",
    "\n",
    "y_train_logit = train['LoanStatus']\n",
    "y_test_logit = test['LoanStatus']\n",
    "\n",
    "# hazard_target = train['ChargeOffDate']\n",
    "# amount_target = train['GrossChargeOffAmount']\n",
    "\n",
    "# print train.dtypes\n",
    "# convert categorical variables to dummy variables\n",
    "x_train = pd.get_dummies(x_train)\n",
    "x_test = pd.get_dummies(x_test)\n",
    "# val = pd.get_dummies(val)"
   ]
  },
  {
   "cell_type": "code",
   "execution_count": 67,
   "metadata": {},
   "outputs": [
    {
     "name": "stdout",
     "output_type": "stream",
     "text": [
      "\n"
     ]
    }
   ],
   "source": [
    "y_train_logit = train['LoanStatus']\n",
    "y_train_logit = [y_train_logit == 'CHGOFF']\n",
    "y_train_logit = np.reshape(y_train_logit, (len(y_train_logit[0]),))\n",
    "\n",
    "y_test_logit = test['LoanStatus']\n",
    "y_test_logit = [y_test_logit == 'CHGOFF']\n",
    "y_test_logit = np.reshape(y_test_logit, (len(y_test_logit[0]),))"
   ]
  },
  {
   "cell_type": "code",
   "execution_count": 68,
   "metadata": {},
   "outputs": [
    {
     "name": "stdout",
     "output_type": "stream",
     "text": [
      "before fix columns: \n",
      "(25468, 41)\n",
      "(5481, 41)\n",
      "after fix columns: \n",
      "(25468, 41)\n",
      "(5481, 41)\n"
     ]
    }
   ],
   "source": [
    "# to get consistent feature dimensions for both train and test dataset\n",
    "def add_missing_dummy_columns(d1, d2):\n",
    "    missing_cols = set(d1.columns) - set(d2.columns)\n",
    "    for c in missing_cols:\n",
    "        d2[c] = 0\n",
    "    return d2\n",
    "\n",
    "print 'before fix columns: '\n",
    "print x_train.shape\n",
    "print x_test.shape\n",
    "\n",
    "def fix_columns(x_train, x_test):  \n",
    "\n",
    "    x_test = add_missing_dummy_columns(x_train, x_test)\n",
    "\n",
    "    extra_cols = set(x_test.columns) - set(x_train.columns)\n",
    "    x_test = x_test[x_train.columns]\n",
    "    return x_test\n",
    "\n",
    "x_test = fix_columns(x_train, x_test)\n",
    "print 'after fix columns: '\n",
    "print x_train.shape\n",
    "print x_test.shape"
   ]
  },
  {
   "cell_type": "code",
   "execution_count": 69,
   "metadata": {},
   "outputs": [
    {
     "data": {
      "text/plain": [
       "LogisticRegression(C=1, class_weight=None, dual=False, fit_intercept=True,\n",
       "          intercept_scaling=1, max_iter=10, multi_class='multinomial',\n",
       "          n_jobs=1, penalty='l1', random_state=42, solver='saga',\n",
       "          tol=0.0001, verbose=0, warm_start=False)"
      ]
     },
     "execution_count": 69,
     "metadata": {},
     "output_type": "execute_result"
    }
   ],
   "source": [
    "# fit to models \n",
    "# below is to fit to logit model\n",
    "\n",
    "# y_train_logit = np.reshape(l, (len(l),))\n",
    "from sklearn.linear_model import LogisticRegression\n",
    "solver = 'saga'\n",
    "\n",
    "lr = LogisticRegression(solver=solver, \n",
    "                        multi_class= 'multinomial', \n",
    "                        C=1,\n",
    "                        penalty = 'l1',\n",
    "                        fit_intercept=True,\n",
    "                        max_iter=10,\n",
    "                        random_state=42, \n",
    "                       )\n",
    "lr.fit(x_train, y_train_logit)"
   ]
  },
  {
   "cell_type": "code",
   "execution_count": 62,
   "metadata": {},
   "outputs": [
    {
     "data": {
      "text/plain": [
       "array([False, False, False, False, False,  True, False, False, False,\n",
       "       False, False,  True,  True,  True, False, False,  True, False,\n",
       "       False, False], dtype=bool)"
      ]
     },
     "execution_count": 62,
     "metadata": {},
     "output_type": "execute_result"
    }
   ],
   "source": [
    "y_train_logit[:20]"
   ]
  },
  {
   "cell_type": "code",
   "execution_count": 74,
   "metadata": {},
   "outputs": [],
   "source": [
    "# from sklearn.metrics import roc_curve, auc\n",
    "\n",
    "# y_score = lr.decision_function(x_train)\n",
    "# y_train_logit = pd.get_dummies(y_train_logit)\n",
    "\n",
    "# # Compute ROC curve and ROC area for each class\n",
    "# fpr = dict()\n",
    "# tpr = dict()\n",
    "# roc_auc = dict()\n",
    "# for i in range(3):\n",
    "#     fpr[i], tpr[i], _ = roc_curve(y_train_logit.loc[:,i], y_score[:,i])\n",
    "#     roc_auc[i] = auc(fpr[i], tpr[i])\n",
    "    \n",
    "# # Compute micro-average ROC curve and ROC area\n",
    "# fpr[\"micro\"], tpr[\"micro\"], _ = roc_curve(y_test.ravel(), y_score.ravel())\n",
    "# roc_auc[\"micro\"] = auc(fpr[\"micro\"], tpr[\"micro\"])\n",
    "\n",
    "# plt.figure()\n",
    "# lw = 2\n",
    "# plt.plot(fpr[2], tpr[2], color='darkorange',\n",
    "#          lw=lw, label='ROC curve (area = %0.2f)' % roc_auc[2])\n",
    "# plt.plot([0, 1], [0, 1], color='navy', lw=lw, linestyle='--')\n",
    "# plt.xlim([0.0, 1.0])\n",
    "# plt.ylim([0.0, 1.05])\n",
    "# plt.xlabel('False Positive Rate')\n",
    "# plt.ylabel('True Positive Rate')\n",
    "# plt.title('Receiver operating characteristic example')\n",
    "# plt.legend(loc=\"lower right\")\n",
    "# plt.show()\n"
   ]
  },
  {
   "cell_type": "code",
   "execution_count": 70,
   "metadata": {},
   "outputs": [
    {
     "name": "stdout",
     "output_type": "stream",
     "text": [
      "[[ 0.04845539  0.18328816 -0.20666078 -0.11500865 -0.33445047  0.20163807\n",
      "   0.05489147 -0.33445047 -0.00250482  0.10642228  0.05489147  0.0131069\n",
      "  -0.03151477  0.85605229 -0.21505827  0.02691115  0.         -0.00780962\n",
      "   0.10000373  0.01830769  0.03753191 -0.1000586  -0.2631797   0.22280478\n",
      "  -0.05728869 -0.02630272 -0.04323988  0.01573401  0.31519248  0.44154718\n",
      "  -0.23635752  0.001677   -0.13625268  0.18796818 -0.1009836   0.37772968\n",
      "   0.61056473  0.09801381  0.          0.         -0.47121602]]\n"
     ]
    }
   ],
   "source": [
    "lr.decision_function(x_train)\n",
    "print lr.coef_"
   ]
  },
  {
   "cell_type": "code",
   "execution_count": 71,
   "metadata": {},
   "outputs": [
    {
     "name": "stdout",
     "output_type": "stream",
     "text": [
      "train:  0.739987435213\n",
      "test:  0.822295201606\n"
     ]
    }
   ],
   "source": [
    "# fit on training data to see if there is underfitting\n",
    "y_pred_train = lr.predict(x_train)\n",
    "print 'train: ', np.sum(y_pred_train == y_train_logit) *1./ y_train_logit.shape[0]\n",
    "\n",
    "# fit on test set to see if there is overfitting\n",
    "y_pred_test = lr.predict(x_test)\n",
    "print 'test: ', np.sum(y_pred_test == y_test_logit) *1./ y_test_logit.shape[0]"
   ]
  },
  {
   "cell_type": "code",
   "execution_count": 72,
   "metadata": {},
   "outputs": [
    {
     "name": "stdout",
     "output_type": "stream",
     "text": [
      "             precision    recall  f1-score   support\n",
      "\n",
      "      False       0.86      0.93      0.90      4590\n",
      "       True       0.42      0.25      0.31       891\n",
      "\n",
      "avg / total       0.79      0.82      0.80      5481\n",
      "\n"
     ]
    }
   ],
   "source": [
    "from sklearn import metrics\n",
    "\n",
    "print metrics.classification_report(y_test_logit, y_pred_test)"
   ]
  },
  {
   "cell_type": "code",
   "execution_count": 73,
   "metadata": {},
   "outputs": [
    {
     "data": {
      "text/plain": [
       "0.81919357781426749"
      ]
     },
     "execution_count": 73,
     "metadata": {},
     "output_type": "execute_result"
    }
   ],
   "source": [
    "from sklearn.linear_model import SGDClassifier\n",
    "clf = SGDClassifier(loss='hinge', penalty='l2',\n",
    "              alpha=1e-3, random_state=42,\n",
    "              max_iter=10, tol=None).fit(x_train, y_train_logit)\n",
    "predicted = clf.predict(x_test)\n",
    "np.mean(predicted == y_test_logit)   "
   ]
  },
  {
   "cell_type": "code",
   "execution_count": null,
   "metadata": {
    "collapsed": true
   },
   "outputs": [],
   "source": []
  }
 ],
 "metadata": {
  "kernelspec": {
   "display_name": "Python 2",
   "language": "python",
   "name": "python2"
  },
  "language_info": {
   "codemirror_mode": {
    "name": "ipython",
    "version": 2
   },
   "file_extension": ".py",
   "mimetype": "text/x-python",
   "name": "python",
   "nbconvert_exporter": "python",
   "pygments_lexer": "ipython2",
   "version": "2.7.14"
  }
 },
 "nbformat": 4,
 "nbformat_minor": 2
}
