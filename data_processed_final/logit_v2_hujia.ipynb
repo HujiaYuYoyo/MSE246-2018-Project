{
 "cells": [
  {
   "cell_type": "code",
   "execution_count": 2,
   "metadata": {},
   "outputs": [],
   "source": [
    "import pandas as pd\n",
    "import numpy as np\n",
    "\n",
    "eps = 10**-8"
   ]
  },
  {
   "cell_type": "code",
   "execution_count": 39,
   "metadata": {},
   "outputs": [
    {
     "name": "stdout",
     "output_type": "stream",
     "text": [
      "29 columns\n",
      "BorrCity                         object\n",
      "BorrState                        object\n",
      "BorrZip                          object\n",
      "CDC_City                         object\n",
      "CDC_State                        object\n",
      "CDC_Zip                          object\n",
      "ThirdPartyLender_City            object\n",
      "ThirdPartyLender_State           object\n",
      "ApprovalDate                     object\n",
      "ApprovalFiscalYear                int64\n",
      "DeliveryMethod                   object\n",
      "subpgmdesc                       object\n",
      "TermInMonths                      int64\n",
      "ProjectCounty                    object\n",
      "ProjectState                     object\n",
      "BusinessType                     object\n",
      "LoanStatus                       object\n",
      "ChargeOffDate                    object\n",
      "GrossChargeOffAmount            float64\n",
      "SP500_Yearly_Return             float64\n",
      "CPI                             float64\n",
      "Log_GrossApproval_Norm          float64\n",
      "Log_HPI_Norm                    float64\n",
      "ThirdPartyDollars_Norm          float64\n",
      "TermMultipleYear                   bool\n",
      "RepeatBorrower                    int64\n",
      "BankStateneqBorrowerState          bool\n",
      "ProjectStateneqBorrowerState       bool\n",
      "2DigitNaics                      object\n",
      "dtype: object\n"
     ]
    }
   ],
   "source": [
    "train = pd.read_csv(\"output/random_train0310.csv\")\n",
    "test = pd.read_csv(\"output/random_test0310.csv\")\n",
    "val = pd.read_csv(\"output/random_val0310.csv\")\n",
    "\n",
    "train = train[train.LoanStatus != \"MISSING\"]\n",
    "test = test[test.LoanStatus != \"MISSING\"]\n",
    "val = val[val.LoanStatus != \"MISSING\"]\n",
    "\n",
    "print len(train.columns), \"columns\"\n",
    "print train.dtypes"
   ]
  },
  {
   "cell_type": "code",
   "execution_count": 4,
   "metadata": {},
   "outputs": [
    {
     "name": "stdout",
     "output_type": "stream",
     "text": [
      "43844.0 5481.0 5481.0\n"
     ]
    }
   ],
   "source": [
    "m_train = float(len(train))\n",
    "m_test = float(len(test))\n",
    "m_val = float(len(val))\n",
    "print m_train, m_test, m_val"
   ]
  },
  {
   "cell_type": "code",
   "execution_count": 5,
   "metadata": {},
   "outputs": [
    {
     "name": "stdout",
     "output_type": "stream",
     "text": [
      "Train set:\n",
      "Chargeoffs: 7124\n",
      "Percentage of loans that defaulted: 0.16248517471\n",
      "\n",
      "Test set:\n",
      "Chargeoffs: 891\n",
      "Percentage of loans that defaulted: 0.162561576355\n",
      "\n",
      "Validation set:\n",
      "Chargeoffs: 967\n",
      "Percentage of loans that defaulted: 0.176427659186\n"
     ]
    }
   ],
   "source": [
    "# Compute some statistics\n",
    "print 'Train set:'\n",
    "chargeoff_count = (train.LoanStatus == \"CHGOFF\").sum()\n",
    "print 'Chargeoffs:', chargeoff_count\n",
    "print 'Percentage of loans that defaulted:', float(chargeoff_count)/m_train\n",
    "\n",
    "print '\\n', 'Test set:'\n",
    "chargeoff_count = (test.LoanStatus == \"CHGOFF\").sum()\n",
    "print 'Chargeoffs:', chargeoff_count\n",
    "print 'Percentage of loans that defaulted:', float(chargeoff_count)/m_test\n",
    "\n",
    "print '\\n', 'Validation set:'\n",
    "chargeoff_count = (val.LoanStatus == \"CHGOFF\").sum()\n",
    "print 'Chargeoffs:', chargeoff_count\n",
    "print 'Percentage of loans that defaulted:', float(chargeoff_count)/m_val"
   ]
  },
  {
   "cell_type": "code",
   "execution_count": 6,
   "metadata": {},
   "outputs": [
    {
     "name": "stdout",
     "output_type": "stream",
     "text": [
      "19 covariates\n",
      "\n",
      "['BorrState', 'CDC_State', 'ThirdPartyLender_State', 'ApprovalFiscalYear', 'DeliveryMethod', 'subpgmdesc', 'TermInMonths', 'ProjectState', 'BusinessType', 'SP500_Yearly_Return', 'CPI', 'Log_GrossApproval_Norm', 'Log_HPI_Norm', 'ThirdPartyDollars_Norm', 'TermMultipleYear', 'RepeatBorrower', 'BankStateneqBorrowerState', 'ProjectStateneqBorrowerState', '2DigitNaics']\n"
     ]
    }
   ],
   "source": [
    "# filtering for the columns you don't want to include for your model\n",
    "c = train.columns.tolist()\n",
    "dropped_columns = ['LoanStatus', 'ChargeOffDate', 'GrossChargeOffAmount', 'BorrZip', 'CDC_Zip', 'BorrCity',\n",
    "                   'CDC_City', 'ThirdPartyLender_City', 'ProjectCounty', 'ApprovalDate']\n",
    "for col in dropped_columns:\n",
    "    c.remove(col)\n",
    "print(len(c)), \"covariates\\n\"\n",
    "print c"
   ]
  },
  {
   "cell_type": "code",
   "execution_count": 44,
   "metadata": {},
   "outputs": [
    {
     "name": "stdout",
     "output_type": "stream",
     "text": [
      "(43844, 19)\n",
      "(43844,)\n",
      "\n",
      "BorrState                        object\n",
      "CDC_State                        object\n",
      "ThirdPartyLender_State           object\n",
      "ApprovalFiscalYear                int64\n",
      "DeliveryMethod                   object\n",
      "subpgmdesc                       object\n",
      "TermInMonths                      int64\n",
      "ProjectState                     object\n",
      "BusinessType                     object\n",
      "SP500_Yearly_Return             float64\n",
      "CPI                             float64\n",
      "Log_GrossApproval_Norm          float64\n",
      "Log_HPI_Norm                    float64\n",
      "ThirdPartyDollars_Norm          float64\n",
      "TermMultipleYear                   bool\n",
      "RepeatBorrower                    int64\n",
      "BankStateneqBorrowerState          bool\n",
      "ProjectStateneqBorrowerState       bool\n",
      "2DigitNaics                      object\n",
      "dtype: object\n"
     ]
    }
   ],
   "source": [
    "x_train = train[c]\n",
    "x_test = test[c]\n",
    "x_val = val[c]\n",
    "\n",
    "y_train_logit = train['LoanStatus'].values == \"CHGOFF\"\n",
    "y_test_logit = test['LoanStatus'].values == \"CHGOFF\"\n",
    "y_val_logit = val['LoanStatus'].values == \"CHGOFF\"\n",
    "\n",
    "print x_train.shape\n",
    "print y_train_logit.shape\n",
    "print '\\n', x_train.dtypes\n",
    "\n",
    "# hazard_target = train['ChargeOffDate']\n",
    "# amount_target = train['GrossChargeOffAmount']"
   ]
  },
  {
   "cell_type": "code",
   "execution_count": 45,
   "metadata": {},
   "outputs": [
    {
     "name": "stdout",
     "output_type": "stream",
     "text": [
      "number of covariate levels: 98\n",
      "BorrState                 object\n",
      "CDC_State                 object\n",
      "ThirdPartyLender_State    object\n",
      "DeliveryMethod            object\n",
      "subpgmdesc                object\n",
      "ProjectState              object\n",
      "BusinessType              object\n",
      "2DigitNaics               object\n",
      "dtype: object\n"
     ]
    }
   ],
   "source": [
    "numerics = x_train.select_dtypes(include=[np.number,'bool'])\n",
    "cats = x_train.drop(columns=numerics.columns)\n",
    "\n",
    "uniques = np.unique(cats.values)\n",
    "\n",
    "print \"number of covariate levels:\", len(uniques)\n",
    "print cats.dtypes"
   ]
  },
  {
   "cell_type": "code",
   "execution_count": 47,
   "metadata": {},
   "outputs": [
    {
     "name": "stdout",
     "output_type": "stream",
     "text": [
      "(43844, 272)\n",
      "ApprovalFiscalYear\n",
      "TermInMonths\n",
      "SP500_Yearly_Return\n",
      "CPI\n",
      "Log_GrossApproval_Norm\n",
      "Log_HPI_Norm\n",
      "ThirdPartyDollars_Norm\n",
      "TermMultipleYear\n",
      "RepeatBorrower\n",
      "BankStateneqBorrowerState\n",
      "ProjectStateneqBorrowerState\n",
      "BorrState_AK\n",
      "BorrState_AL\n",
      "BorrState_AR\n",
      "BorrState_AZ\n",
      "BorrState_CA\n",
      "BorrState_CO\n",
      "BorrState_CT\n",
      "BorrState_DC\n",
      "BorrState_DE\n",
      "BorrState_FL\n",
      "BorrState_GA\n",
      "BorrState_GU\n",
      "BorrState_HI\n",
      "BorrState_IA\n",
      "BorrState_ID\n",
      "BorrState_IL\n",
      "BorrState_IN\n",
      "BorrState_KS\n",
      "BorrState_KY\n",
      "BorrState_LA\n",
      "BorrState_MA\n",
      "BorrState_MD\n",
      "BorrState_ME\n",
      "BorrState_MI\n",
      "BorrState_MN\n",
      "BorrState_MO\n",
      "BorrState_MS\n",
      "BorrState_MT\n",
      "BorrState_NC\n",
      "BorrState_ND\n",
      "BorrState_NE\n",
      "BorrState_NH\n",
      "BorrState_NJ\n",
      "BorrState_NM\n",
      "BorrState_NV\n",
      "BorrState_NY\n",
      "BorrState_OH\n",
      "BorrState_OK\n",
      "BorrState_OR\n",
      "BorrState_PA\n",
      "BorrState_PR\n",
      "BorrState_RI\n",
      "BorrState_SC\n",
      "BorrState_SD\n",
      "BorrState_TN\n",
      "BorrState_TX\n",
      "BorrState_UT\n",
      "BorrState_VA\n",
      "BorrState_VI\n",
      "BorrState_VT\n",
      "BorrState_WA\n",
      "BorrState_WI\n",
      "BorrState_WV\n",
      "BorrState_WY\n",
      "CDC_State_AK\n",
      "CDC_State_AL\n",
      "CDC_State_AR\n",
      "CDC_State_AZ\n",
      "CDC_State_CA\n",
      "CDC_State_CO\n",
      "CDC_State_CT\n",
      "CDC_State_DC\n",
      "CDC_State_DE\n",
      "CDC_State_FL\n",
      "CDC_State_GA\n",
      "CDC_State_HI\n",
      "CDC_State_IA\n",
      "CDC_State_ID\n",
      "CDC_State_IL\n",
      "CDC_State_IN\n",
      "CDC_State_KS\n",
      "CDC_State_KY\n",
      "CDC_State_LA\n",
      "CDC_State_MA\n",
      "CDC_State_MD\n",
      "CDC_State_ME\n",
      "CDC_State_MI\n",
      "CDC_State_MISSING\n",
      "CDC_State_MN\n",
      "CDC_State_MO\n",
      "CDC_State_MS\n",
      "CDC_State_MT\n",
      "CDC_State_NC\n",
      "CDC_State_ND\n",
      "CDC_State_NE\n",
      "CDC_State_NH\n",
      "CDC_State_NJ\n",
      "CDC_State_NM\n",
      "CDC_State_NV\n",
      "CDC_State_NY\n",
      "CDC_State_OH\n",
      "CDC_State_OK\n",
      "CDC_State_OR\n",
      "CDC_State_PA\n",
      "CDC_State_PR\n",
      "CDC_State_RI\n",
      "CDC_State_SC\n",
      "CDC_State_SD\n",
      "CDC_State_TN\n",
      "CDC_State_TX\n",
      "CDC_State_UT\n",
      "CDC_State_VA\n",
      "CDC_State_VT\n",
      "CDC_State_WA\n",
      "CDC_State_WI\n",
      "CDC_State_WV\n",
      "CDC_State_WY\n",
      "ThirdPartyLender_State_#N\n",
      "ThirdPartyLender_State_0\n",
      "ThirdPartyLender_State_AB\n",
      "ThirdPartyLender_State_AK\n",
      "ThirdPartyLender_State_AL\n",
      "ThirdPartyLender_State_AR\n",
      "ThirdPartyLender_State_AZ\n",
      "ThirdPartyLender_State_BC\n",
      "ThirdPartyLender_State_CA\n",
      "ThirdPartyLender_State_CO\n",
      "ThirdPartyLender_State_CT\n",
      "ThirdPartyLender_State_DC\n",
      "ThirdPartyLender_State_DE\n",
      "ThirdPartyLender_State_FL\n",
      "ThirdPartyLender_State_GA\n",
      "ThirdPartyLender_State_GU\n",
      "ThirdPartyLender_State_HI\n",
      "ThirdPartyLender_State_IA\n",
      "ThirdPartyLender_State_ID\n",
      "ThirdPartyLender_State_IL\n",
      "ThirdPartyLender_State_IN\n",
      "ThirdPartyLender_State_KS\n",
      "ThirdPartyLender_State_KY\n",
      "ThirdPartyLender_State_LA\n",
      "ThirdPartyLender_State_MA\n",
      "ThirdPartyLender_State_MD\n",
      "ThirdPartyLender_State_ME\n",
      "ThirdPartyLender_State_MI\n",
      "ThirdPartyLender_State_MISSING\n",
      "ThirdPartyLender_State_MN\n",
      "ThirdPartyLender_State_MO\n",
      "ThirdPartyLender_State_MS\n",
      "ThirdPartyLender_State_MT\n",
      "ThirdPartyLender_State_NC\n",
      "ThirdPartyLender_State_ND\n",
      "ThirdPartyLender_State_NE\n",
      "ThirdPartyLender_State_NH\n",
      "ThirdPartyLender_State_NJ\n",
      "ThirdPartyLender_State_NM\n",
      "ThirdPartyLender_State_NV\n",
      "ThirdPartyLender_State_NY\n",
      "ThirdPartyLender_State_OH\n",
      "ThirdPartyLender_State_OK\n",
      "ThirdPartyLender_State_OR\n",
      "ThirdPartyLender_State_PA\n",
      "ThirdPartyLender_State_PR\n",
      "ThirdPartyLender_State_RI\n",
      "ThirdPartyLender_State_Ro\n",
      "ThirdPartyLender_State_SC\n",
      "ThirdPartyLender_State_SD\n",
      "ThirdPartyLender_State_St\n",
      "ThirdPartyLender_State_TN\n",
      "ThirdPartyLender_State_TX\n",
      "ThirdPartyLender_State_UT\n",
      "ThirdPartyLender_State_VA\n",
      "ThirdPartyLender_State_VT\n",
      "ThirdPartyLender_State_WA\n",
      "ThirdPartyLender_State_WI\n",
      "ThirdPartyLender_State_WV\n",
      "ThirdPartyLender_State_WY\n",
      "DeliveryMethod_504\n",
      "DeliveryMethod_504REFI\n",
      "DeliveryMethod_ALP\n",
      "DeliveryMethod_PCLP\n",
      "subpgmdesc_504 Refinance\n",
      "subpgmdesc_Sec. 504 - Delta loans, funded 9/26/95\n",
      "subpgmdesc_Sec. 504 - Loan Guarantees - Private Sector Financed\n",
      "subpgmdesc_Sec. 504 - Premier Certified Lender Program\n",
      "ProjectState_AK\n",
      "ProjectState_AL\n",
      "ProjectState_AR\n",
      "ProjectState_AZ\n",
      "ProjectState_CA\n",
      "ProjectState_CO\n",
      "ProjectState_CT\n",
      "ProjectState_DC\n",
      "ProjectState_DE\n",
      "ProjectState_FL\n",
      "ProjectState_GA\n",
      "ProjectState_GU\n",
      "ProjectState_HI\n",
      "ProjectState_IA\n",
      "ProjectState_ID\n",
      "ProjectState_IL\n",
      "ProjectState_IN\n",
      "ProjectState_KS\n",
      "ProjectState_KY\n",
      "ProjectState_LA\n",
      "ProjectState_MA\n",
      "ProjectState_MD\n",
      "ProjectState_ME\n",
      "ProjectState_MI\n",
      "ProjectState_MISSING\n",
      "ProjectState_MN\n",
      "ProjectState_MO\n",
      "ProjectState_MS\n",
      "ProjectState_MT\n",
      "ProjectState_NC\n",
      "ProjectState_ND\n",
      "ProjectState_NE\n",
      "ProjectState_NH\n",
      "ProjectState_NJ\n",
      "ProjectState_NM\n",
      "ProjectState_NV\n",
      "ProjectState_NY\n",
      "ProjectState_OH\n",
      "ProjectState_OK\n",
      "ProjectState_OR\n",
      "ProjectState_PA\n",
      "ProjectState_PR\n",
      "ProjectState_PW\n",
      "ProjectState_RI\n",
      "ProjectState_SC\n",
      "ProjectState_SD\n",
      "ProjectState_TN\n",
      "ProjectState_TX\n",
      "ProjectState_UT\n",
      "ProjectState_VA\n",
      "ProjectState_VI\n",
      "ProjectState_VT\n",
      "ProjectState_WA\n",
      "ProjectState_WI\n",
      "ProjectState_WV\n",
      "ProjectState_WY\n",
      "BusinessType_CORPORATION\n",
      "BusinessType_INDIVIDUAL\n",
      "BusinessType_MISSING\n",
      "BusinessType_PARTNERSHIP\n",
      "2DigitNaics_11\n",
      "2DigitNaics_21\n",
      "2DigitNaics_22\n",
      "2DigitNaics_23\n",
      "2DigitNaics_31\n",
      "2DigitNaics_32\n",
      "2DigitNaics_33\n",
      "2DigitNaics_42\n",
      "2DigitNaics_44\n",
      "2DigitNaics_45\n",
      "2DigitNaics_48\n",
      "2DigitNaics_49\n",
      "2DigitNaics_51\n",
      "2DigitNaics_52\n",
      "2DigitNaics_53\n",
      "2DigitNaics_54\n",
      "2DigitNaics_55\n",
      "2DigitNaics_56\n",
      "2DigitNaics_61\n",
      "2DigitNaics_62\n",
      "2DigitNaics_71\n",
      "2DigitNaics_72\n",
      "2DigitNaics_81\n",
      "2DigitNaics_92\n",
      "2DigitNaics_99\n",
      "2DigitNaics_MI\n"
     ]
    }
   ],
   "source": [
    "# print train.dtypes\n",
    "# convert categorical variables to dummy variables\n",
    "x_train = pd.get_dummies(x_train)\n",
    "x_test = pd.get_dummies(x_test)\n",
    "x_val = pd.get_dummies(x_val)\n",
    "\n",
    "print x_train.shape\n",
    "for column in x_train.columns:\n",
    "    print column"
   ]
  },
  {
   "cell_type": "code",
   "execution_count": 19,
   "metadata": {},
   "outputs": [
    {
     "name": "stdout",
     "output_type": "stream",
     "text": [
      "before fixing columns: \n",
      "(43844, 272)\n",
      "(5481, 260)\n",
      "(5481, 260)\n",
      "after fixing columns: \n",
      "(43844, 274)\n",
      "(5481, 274)\n",
      "(5481, 274)\n"
     ]
    }
   ],
   "source": [
    "# to get consistent feature dimensions for both train and test dataset\n",
    "def add_missing_columns(d1, d2):\n",
    "    missing_cols_2 = (set(d1.columns) - set(d2.columns))\n",
    "    missing_cols_1 = (set(d2.columns) - set(d1.columns))\n",
    "    for c in missing_cols_2:\n",
    "        d2[c] = 0\n",
    "    for c in missing_cols_1:\n",
    "        d1[c] = 0\n",
    "    return d1, d2\n",
    "\n",
    "print 'before fixing columns: '\n",
    "print x_train.shape\n",
    "print x_test.shape\n",
    "print x_val.shape\n",
    "\n",
    "x_train, x_test = add_missing_columns(x_train, x_test)\n",
    "x_train, x_val = add_missing_columns(x_train, x_val)\n",
    "x_test, x_val = add_missing_columns(x_test, x_val)\n",
    "print 'after fixing columns: '\n",
    "print x_train.shape\n",
    "print x_test.shape\n",
    "print x_val.shape"
   ]
  },
  {
   "cell_type": "code",
   "execution_count": 34,
   "metadata": {},
   "outputs": [
    {
     "data": {
      "text/plain": [
       "LogisticRegression(C=5000.0, class_weight=None, dual=False,\n",
       "          fit_intercept=True, intercept_scaling=1, max_iter=200,\n",
       "          multi_class='ovr', n_jobs=1, penalty='l2', random_state=None,\n",
       "          solver='liblinear', tol=0.0001, verbose=0, warm_start=False)"
      ]
     },
     "execution_count": 34,
     "metadata": {},
     "output_type": "execute_result"
    }
   ],
   "source": [
    "# fit to models \n",
    "# below is to fit to logit model\n",
    "\n",
    "# y_train_logit = np.reshape(l, (len(l),))\n",
    "from sklearn.linear_model import LogisticRegression\n",
    "solver = 'liblinear'\n",
    "\n",
    "lr = LogisticRegression(solver=solver, \n",
    "                        multi_class= 'ovr', \n",
    "                        C=5000.,\n",
    "                        penalty = 'l2',\n",
    "                        fit_intercept=True,\n",
    "                        max_iter=200,\n",
    "                        random_state=None, \n",
    "                       )\n",
    "lr.fit(x_train, y_train_logit)"
   ]
  },
  {
   "cell_type": "code",
   "execution_count": 35,
   "metadata": {},
   "outputs": [
    {
     "name": "stdout",
     "output_type": "stream",
     "text": [
      "[[0.87638227 0.12361773]\n",
      " [0.86553068 0.13446932]\n",
      " [0.79262959 0.20737041]\n",
      " [0.06094669 0.93905331]\n",
      " [0.90174342 0.09825658]]\n"
     ]
    }
   ],
   "source": [
    "y_probs_val = lr.predict_proba(x_val)\n",
    "print y_probs_val[:5]"
   ]
  },
  {
   "cell_type": "code",
   "execution_count": 36,
   "metadata": {},
   "outputs": [
    {
     "name": "stdout",
     "output_type": "stream",
     "text": [
      "[[False]\n",
      " [False]\n",
      " [ True]\n",
      " [ True]\n",
      " [False]]\n",
      "\n",
      "validation accuracy 0.6414887794198139\n",
      "false positive rate 0.36442179884722103\n",
      "true positive rate 0.669079627707662\n"
     ]
    }
   ],
   "source": [
    "y_preds_val = y_probs_val[:,1] > 0.2\n",
    "print y_preds_val[:5].reshape(5,1)\n",
    "print \"\\n\", \"validation accuracy\", np.sum(y_preds_val == y_val_logit, dtype=float) / m_val\n",
    "print \"false positive rate\",  np.sum((y_val_logit == 0) * (y_preds_val == 1)) / (np.sum(y_val_logit == 0, dtype=float) + eps)\n",
    "print \"true positive rate\", np.sum((y_val_logit == 1) * (y_preds_val == 1)) / (np.sum(y_val_logit == 1, dtype=float) + eps)"
   ]
  },
  {
   "cell_type": "code",
   "execution_count": 37,
   "metadata": {},
   "outputs": [
    {
     "name": "stdout",
     "output_type": "stream",
     "text": [
      "[0.9999999999977847, 0.9999999999977847, 0.9999999999977847, 0.9999999999977847, 0.9999999999977847]\n",
      "[0.9999999999896587, 0.9999999999896587, 0.9999999999896587, 0.9999999999896587, 0.9999999999896587]\n"
     ]
    }
   ],
   "source": [
    "import matplotlib.pyplot as plt\n",
    "fprs = []\n",
    "tprs = []\n",
    "step_size = 0.00001\n",
    "for threshold in np.arange(0.001,1,step_size):\n",
    "    y_preds_val = y_probs_val[:,1] > threshold\n",
    "    num_pos = np.sum(y_preds_val == 1, dtype=float) + eps\n",
    "    fprs.append(np.sum((y_val_logit == 0) * (y_preds_val == 1)) / (np.sum(y_val_logit == 0, dtype=float) + eps))\n",
    "    tprs.append(np.sum((y_val_logit == 1) * (y_preds_val == 1)) / (np.sum(y_val_logit == 1, dtype=float) + eps))\n",
    "print fprs[:5]\n",
    "print tprs[:5]"
   ]
  },
  {
   "cell_type": "code",
   "execution_count": 38,
   "metadata": {},
   "outputs": [
    {
     "data": {
      "image/png": "[encoded data removed]",
      "text/plain": [
       "<Figure size 432x288 with 1 Axes>"
      ]
     },
     "metadata": {},
     "output_type": "display_data"
    }
   ],
   "source": [
    "plt.plot(fprs,tprs)\n",
    "plt.title(\"ROC Curve for Logistic Regression\")\n",
    "plt.ylabel(\"true positive rate\")\n",
    "plt.xlabel(\"false positive rate\")\n",
    "plt.show()"
   ]
  },
  {
   "cell_type": "code",
   "execution_count": 30,
   "metadata": {},
   "outputs": [
    {
     "name": "stdout",
     "output_type": "stream",
     "text": [
      "area under curve:  0.7214704659983436\n"
     ]
    }
   ],
   "source": [
    "x_prev = 0.\n",
    "auc = 0\n",
    "for x, y in zip(sorted(fprs), sorted(tprs)):\n",
    "    auc += (x - x_prev)*y\n",
    "    x_prev = x\n",
    "print \"area under curve: \", auc"
   ]
  },
  {
   "cell_type": "code",
   "execution_count": 31,
   "metadata": {},
   "outputs": [
    {
     "name": "stdout",
     "output_type": "stream",
     "text": [
      "best threshold:  0.24322000000000002\n",
      "highest sensitivity:  0.6763185108513308\n",
      "highest specificity:  0.6641559592386704\n"
     ]
    }
   ],
   "source": [
    "senses = np.array(tprs, dtype=float) + eps\n",
    "specs = 1 - np.array(fprs, dtype=float) + eps\n",
    "h_mean = 2. / (1 / senses + 1 / specs)\n",
    "opt_index = np.argmax(h_mean)\n",
    "opt_threshold = opt_index*step_size\n",
    "\n",
    "print \"best threshold: \" , opt_threshold\n",
    "print \"highest sensitivity: \", tprs[opt_index]\n",
    "print \"highest specificity: \", 1 - fprs[opt_index]"
   ]
  },
  {
   "cell_type": "code",
   "execution_count": 32,
   "metadata": {},
   "outputs": [
    {
     "name": "stdout",
     "output_type": "stream",
     "text": [
      "[0.07889901 0.14812234 0.1311184  0.10666061 0.89756055]\n",
      "[False False False False  True]\n"
     ]
    }
   ],
   "source": [
    "y_probs_train = lr.predict_proba(x_train)[:,1]\n",
    "y_preds_train = y_probs_train > opt_threshold\n",
    "\n",
    "y_probs_test = lr.predict_proba(x_test)[:,1]\n",
    "y_preds_test = y_probs_test > opt_threshold\n",
    "print y_probs_test[:5]\n",
    "print y_preds_test[:5]"
   ]
  },
  {
   "cell_type": "code",
   "execution_count": 33,
   "metadata": {},
   "outputs": [
    {
     "name": "stdout",
     "output_type": "stream",
     "text": [
      "Training set\n",
      "predicted proportion of defaults:  0.24190311103001552\n",
      "accuracy:  0.8173068150716175\n",
      "\n",
      "Test set\n",
      "predicted proportion of defaults:  0.3638022258711914\n",
      "accuracy:  0.682357234081372\n"
     ]
    }
   ],
   "source": [
    "# fit on training data to see if there is underfitting\n",
    "print 'Training set'\n",
    "print 'predicted proportion of defaults: ', np.sum(y_preds_train == 1) / m_train\n",
    "print 'accuracy: ', np.sum(y_preds_train == y_train_logit) / m_train\n",
    "\n",
    "# fit on test set to see if there is overfitting\n",
    "print '\\nTest set'\n",
    "print 'predicted proportion of defaults: ', np.sum(y_preds_test == 1) / m_test\n",
    "print 'accuracy: ', np.sum(y_preds_test == y_test_logit) / m_test"
   ]
  },
  {
   "cell_type": "code",
   "execution_count": 16,
   "metadata": {},
   "outputs": [],
   "source": [
    "# to discuss/redo cells below"
   ]
  },
  {
   "cell_type": "code",
   "execution_count": 17,
   "metadata": {},
   "outputs": [],
   "source": [
    "# from sklearn import metrics\n",
    "\n",
    "# print 'Training set'\n",
    "# print metrics.classification_report(y_train_logit, y_pred_train)\n",
    "# print '\\nTest set'\n",
    "# print metrics.classification_report(y_test_logit, y_pred_test)"
   ]
  },
  {
   "cell_type": "code",
   "execution_count": 18,
   "metadata": {},
   "outputs": [],
   "source": [
    "# train = pd.read_csv(\"output/sorted_train0310.csv\")\n",
    "# test = pd.read_csv(\"output/sorted_test0310.csv\")\n",
    "# val = pd.read_csv(\"output/sorted_val0310.csv\")"
   ]
  },
  {
   "cell_type": "code",
   "execution_count": 19,
   "metadata": {},
   "outputs": [],
   "source": [
    "# ####### optional ##########\n",
    "# # if import from sorted data - need to downsample train dataset to be more balanced\n",
    "# # can call the following function multiple times for decreasing in log term\n",
    "# # dropping PIF samples with 50% probability\n",
    "\n",
    "# def drop_half(train):\n",
    "#     print 'before drop: ', train.shape[0]\n",
    "#     dropidx = []\n",
    "#     for idx, val in train['LoanStatus'].iteritems():\n",
    "#         if val != 'CHGOFF':\n",
    "#             rand = np.random.rand()\n",
    "#             if rand < 0.5:\n",
    "#                 dropidx.append(idx)\n",
    "#     train = train.drop(dropidx)\n",
    "#     print 'after drop: ', train.shape[0]\n",
    "#     return train\n",
    "    \n",
    "# train = drop_half(train)\n",
    "# train = drop_half(train)\n",
    "# # test = drop_half(test)\n",
    "\n",
    "# chargeoff_count = (train['LoanStatus'] == \"CHGOFF\").sum()\n",
    "# print 'Chargeoffs:', chargeoff_count\n",
    "# print 'Percentage of loans that defaulted:', float(chargeoff_count)/len(train)\n",
    "\n",
    "# chargeoff_count = (test['LoanStatus'] == \"CHGOFF\").sum()\n",
    "# print 'Chargeoffs:', chargeoff_count\n",
    "# print 'Percentage of loans that defaulted:', float(chargeoff_count)/len(test)"
   ]
  }
 ],
 "metadata": {
  "kernelspec": {
   "display_name": "Python 2",
   "language": "python",
   "name": "python2"
  },
  "language_info": {
   "codemirror_mode": {
    "name": "ipython",
    "version": 2
   },
   "file_extension": ".py",
   "mimetype": "text/x-python",
   "name": "python",
   "nbconvert_exporter": "python",
   "pygments_lexer": "ipython2",
   "version": "2.7.14"
  }
 },
 "nbformat": 4,
 "nbformat_minor": 2
}
