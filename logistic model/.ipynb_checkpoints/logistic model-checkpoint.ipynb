{
 "cells": [
  {
   "cell_type": "code",
   "execution_count": 2,
   "metadata": {},
   "outputs": [],
   "source": [
    "import pandas as pd\n",
    "import numpy as np\n",
    "import matplotlib.pyplot as plt\n",
    "from sklearn.linear_model import LogisticRegression"
   ]
  },
  {
   "cell_type": "code",
   "execution_count": 3,
   "metadata": {},
   "outputs": [],
   "source": [
    "# hyperparameters\n",
    "# threshold step size for the ROC curve\n",
    "step_size = 0.0001\n",
    "# regression penalty type\n",
    "penalty = 'l2'\n",
    "# offset to prevent dividing by 0\n",
    "eps = 10**-8"
   ]
  },
  {
   "cell_type": "code",
   "execution_count": 4,
   "metadata": {},
   "outputs": [
    {
     "name": "stdout",
     "output_type": "stream",
     "text": [
      "32 columns\n",
      "BorrCity                              object\n",
      "BorrState                             object\n",
      "BorrZip                               object\n",
      "CDC_City                              object\n",
      "CDC_State                             object\n",
      "CDC_Zip                               object\n",
      "ThirdPartyLender_City                 object\n",
      "ThirdPartyLender_State                object\n",
      "GrossApproval                        float64\n",
      "ApprovalDate                          object\n",
      "ApprovalFiscalYear                     int64\n",
      "DeliveryMethod                        object\n",
      "subpgmdesc                            object\n",
      "TermInMonths                           int64\n",
      "ProjectCounty                         object\n",
      "ProjectState                          object\n",
      "BusinessType                          object\n",
      "LoanStatus                            object\n",
      "ChargeOffDate                         object\n",
      "GrossChargeOffAmount                 float64\n",
      "SP500_Yearly_Return                  float64\n",
      "CPI                                  float64\n",
      "Yearly_Unemployment_Rate             float64\n",
      "Log_GrossApproval_Norm               float64\n",
      "Log_Yearly_Unemployment_Rate_Norm    float64\n",
      "Log_HPI_Norm                         float64\n",
      "ThirdPartyDollars_Norm               float64\n",
      "TermMultipleYear                        bool\n",
      "RepeatBorrower                         int64\n",
      "BankStateneqBorrowerState               bool\n",
      "ProjectStateneqBorrowerState            bool\n",
      "2DigitNaics                           object\n",
      "dtype: object\n"
     ]
    }
   ],
   "source": [
    "# load data\n",
    "train = pd.read_csv(\"data/random_train0314.csv\")\n",
    "test = pd.read_csv(\"data/random_test0314.csv\")\n",
    "val = pd.read_csv(\"data/random_val0314.csv\")\n",
    "\n",
    "print len(train.columns), \"columns\"\n",
    "print train.dtypes"
   ]
  },
  {
   "cell_type": "code",
   "execution_count": 5,
   "metadata": {},
   "outputs": [
    {
     "name": "stdout",
     "output_type": "stream",
     "text": [
      "43844.0 5481.0 5481.0\n"
     ]
    }
   ],
   "source": [
    "m_train = float(len(train))\n",
    "m_test = float(len(test))\n",
    "m_val = float(len(val))\n",
    "print m_train, m_test, m_val"
   ]
  },
  {
   "cell_type": "code",
   "execution_count": 6,
   "metadata": {},
   "outputs": [
    {
     "name": "stdout",
     "output_type": "stream",
     "text": [
      "Train set:\n",
      "Chargeoffs: 7177\n",
      "Percentage of loans that defaulted: 0.163694006021\n",
      "\n",
      "Test set:\n",
      "Chargeoffs: 848\n",
      "Percentage of loans that defaulted: 0.154716292647\n",
      "\n",
      "Validation set:\n",
      "Chargeoffs: 957\n",
      "Percentage of loans that defaulted: 0.174603174603\n"
     ]
    }
   ],
   "source": [
    "# Compute some statistics\n",
    "print 'Train set:'\n",
    "chargeoff_count = (train.LoanStatus == \"CHGOFF\").sum()\n",
    "print 'Chargeoffs:', chargeoff_count\n",
    "print 'Percentage of loans that defaulted:', float(chargeoff_count)/m_train\n",
    "\n",
    "print '\\n', 'Test set:'\n",
    "chargeoff_count = (test.LoanStatus == \"CHGOFF\").sum()\n",
    "print 'Chargeoffs:', chargeoff_count\n",
    "print 'Percentage of loans that defaulted:', float(chargeoff_count)/m_test\n",
    "\n",
    "print '\\n', 'Validation set:'\n",
    "chargeoff_count = (val.LoanStatus == \"CHGOFF\").sum()\n",
    "print 'Chargeoffs:', chargeoff_count\n",
    "print 'Percentage of loans that defaulted:', float(chargeoff_count)/m_val"
   ]
  },
  {
   "cell_type": "code",
   "execution_count": 7,
   "metadata": {},
   "outputs": [
    {
     "name": "stdout",
     "output_type": "stream",
     "text": [
      "22 covariates\n",
      "['BorrState', 'CDC_State', 'ThirdPartyLender_State', 'GrossApproval', 'ApprovalFiscalYear', 'DeliveryMethod', 'subpgmdesc', 'TermInMonths', 'ProjectState', 'BusinessType', 'SP500_Yearly_Return', 'CPI', 'Yearly_Unemployment_Rate', 'Log_GrossApproval_Norm', 'Log_Yearly_Unemployment_Rate_Norm', 'Log_HPI_Norm', 'ThirdPartyDollars_Norm', 'TermMultipleYear', 'RepeatBorrower', 'BankStateneqBorrowerState', 'ProjectStateneqBorrowerState', '2DigitNaics']\n"
     ]
    }
   ],
   "source": [
    "# remove variables we don't want\n",
    "c = train.columns.tolist()\n",
    "dropped_columns = ['LoanStatus', 'ChargeOffDate', 'GrossChargeOffAmount', 'BorrZip', 'CDC_Zip', 'BorrCity',\n",
    "                   'CDC_City', 'ThirdPartyLender_City', 'ProjectCounty', 'ApprovalDate', 'Yearly_Unemployment_Rate']\n",
    "for col in dropped_columns:\n",
    "    c.remove(col)\n",
    "print(len(c)), \"covariates\"\n",
    "print c"
   ]
  },
  {
   "cell_type": "code",
   "execution_count": 8,
   "metadata": {},
   "outputs": [
    {
     "name": "stdout",
     "output_type": "stream",
     "text": [
      "(43844, 22)\n",
      "(43844,)\n",
      "BorrState                             object\n",
      "CDC_State                             object\n",
      "ThirdPartyLender_State                object\n",
      "GrossApproval                        float64\n",
      "ApprovalFiscalYear                     int64\n",
      "DeliveryMethod                        object\n",
      "subpgmdesc                            object\n",
      "TermInMonths                           int64\n",
      "ProjectState                          object\n",
      "BusinessType                          object\n",
      "SP500_Yearly_Return                  float64\n",
      "CPI                                  float64\n",
      "Yearly_Unemployment_Rate             float64\n",
      "Log_GrossApproval_Norm               float64\n",
      "Log_Yearly_Unemployment_Rate_Norm    float64\n",
      "Log_HPI_Norm                         float64\n",
      "ThirdPartyDollars_Norm               float64\n",
      "TermMultipleYear                        bool\n",
      "RepeatBorrower                         int64\n",
      "BankStateneqBorrowerState               bool\n",
      "ProjectStateneqBorrowerState            bool\n",
      "2DigitNaics                           object\n",
      "dtype: object\n"
     ]
    }
   ],
   "source": [
    "# seperate data into covariates and targets\n",
    "x_train = train[c]\n",
    "x_test = test[c]\n",
    "x_val = val[c]\n",
    "\n",
    "y_train = (train['LoanStatus'].values == \"CHGOFF\")*1\n",
    "y_test = (test['LoanStatus'].values == \"CHGOFF\")*1\n",
    "y_val = (val['LoanStatus'].values == \"CHGOFF\")*1\n",
    "\n",
    "print x_train.shape\n",
    "print y_train.shape\n",
    "print x_train.dtypes"
   ]
  },
  {
   "cell_type": "code",
   "execution_count": 9,
   "metadata": {},
   "outputs": [
    {
     "name": "stdout",
     "output_type": "stream",
     "text": [
      "approx. number of covariate levels: 98\n",
      "BorrState                 object\n",
      "CDC_State                 object\n",
      "ThirdPartyLender_State    object\n",
      "DeliveryMethod            object\n",
      "subpgmdesc                object\n",
      "ProjectState              object\n",
      "BusinessType              object\n",
      "2DigitNaics               object\n",
      "dtype: object\n"
     ]
    }
   ],
   "source": [
    "# estimate how many covariates we add by the expanding categorical columns\n",
    "numerics = x_train.select_dtypes(include=[np.number,'bool'])\n",
    "cats = x_train.drop(columns=numerics.columns)\n",
    "\n",
    "uniques = np.unique(cats.values)\n",
    "\n",
    "print \"approx. number of covariate levels:\", len(uniques)\n",
    "print cats.dtypes"
   ]
  },
  {
   "cell_type": "code",
   "execution_count": 10,
   "metadata": {},
   "outputs": [
    {
     "name": "stdout",
     "output_type": "stream",
     "text": [
      "(43844, 275)\n"
     ]
    }
   ],
   "source": [
    "# convert categorical variables to dummy variables\n",
    "x_train = pd.get_dummies(x_train)\n",
    "x_test = pd.get_dummies(x_test)\n",
    "x_val = pd.get_dummies(x_val)\n",
    "\n",
    "print x_train.shape"
   ]
  },
  {
   "cell_type": "code",
   "execution_count": 11,
   "metadata": {},
   "outputs": [
    {
     "name": "stdout",
     "output_type": "stream",
     "text": [
      "before fixing columns: \n",
      "(43844, 275)\n",
      "(5481, 264)\n",
      "(5481, 265)\n",
      "after fixing columns: \n",
      "(43844, 277)\n",
      "(5481, 277)\n",
      "(5481, 277)\n"
     ]
    }
   ],
   "source": [
    "# make sure the data sets all have the same levels\n",
    "def add_missing_columns(d1, d2):\n",
    "    missing_cols_2 = (set(d1.columns) - set(d2.columns))\n",
    "    missing_cols_1 = (set(d2.columns) - set(d1.columns))\n",
    "    for c in missing_cols_2:\n",
    "        d2[c] = 0\n",
    "    for c in missing_cols_1:\n",
    "        d1[c] = 0\n",
    "    return d1, d2\n",
    "\n",
    "print 'before fixing columns: '\n",
    "print x_train.shape\n",
    "print x_test.shape\n",
    "print x_val.shape\n",
    "\n",
    "x_train, x_test = add_missing_columns(x_train, x_test)\n",
    "x_train, x_val = add_missing_columns(x_train, x_val)\n",
    "x_test, x_val = add_missing_columns(x_test, x_val)\n",
    "print 'after fixing columns: '\n",
    "print x_train.shape\n",
    "print x_test.shape\n",
    "print x_val.shape"
   ]
  },
  {
   "cell_type": "code",
   "execution_count": 12,
   "metadata": {},
   "outputs": [
    {
     "name": "stdout",
     "output_type": "stream",
     "text": [
      "(0.03125, 1e-07) : 0.7577646953294151\n"
     ]
    }
   ],
   "source": [
    "# find best regularization factor and stopping time\n",
    "def lr_model(x, y, C = 1, penalty = 'l2', tol = 10**-4):\n",
    "    lr = LogisticRegression(solver='liblinear', multi_class= 'ovr', C=C,\n",
    "                        penalty = penalty, fit_intercept=True, max_iter=200, tol = tol)\n",
    "    lr.fit(x, y)\n",
    "    return lr\n",
    "\n",
    "def calc_auc(x, y, C = 1, penalty = 'l2', tol = 10**-4):\n",
    "    lr = lr_model(x_train, y_train, C = C, penalty = penalty, tol = tol)\n",
    "    \n",
    "    y_probs = lr.predict_proba(x)\n",
    "    fprs, tprs  = [], [] \n",
    "    for threshold in np.arange(step_size,1,step_size):\n",
    "        y_preds = y_probs[:,1] > threshold\n",
    "        fprs.append(np.sum((y == 0) * (y_preds == 1)) / (np.sum(y == 0, dtype=float) + eps))\n",
    "        tprs.append(np.sum((y == 1) * (y_preds == 1)) / (np.sum(y == 1, dtype=float) + eps))\n",
    "\n",
    "    i_prev = 0.\n",
    "    auc = 0\n",
    "    for i, j in zip(sorted(fprs), sorted(tprs)):\n",
    "        auc += (i - i_prev)*j\n",
    "        i_prev = i\n",
    "    return auc\n",
    "\n",
    "C_range = [2**i for i in range(-5,5)]\n",
    "tol_range = [10**i for i in range(-8, -1)]\n",
    "auc_results = {}\n",
    "for C in C_range:\n",
    "    for tol in tol_range:\n",
    "        auc_results[calc_auc(x_val, y_val, C = C, tol = tol)] = (C, tol)\n",
    "opt_auc = np.max(auc_results.keys())\n",
    "opt_setting = auc_results[opt_auc]\n",
    "\n",
    "print opt_setting, \":\", opt_auc"
   ]
  },
  {
   "cell_type": "code",
   "execution_count": 13,
   "metadata": {},
   "outputs": [
    {
     "data": {
      "image/png": "[encoded data removed]",
      "text/plain": [
       "<Figure size 432x288 with 1 Axes>"
      ]
     },
     "metadata": {},
     "output_type": "display_data"
    }
   ],
   "source": [
    "# plot AUC curves\n",
    "auc_C_avg = np.zeros(len(C_range))\n",
    "auc_tol_avg = np.zeros(len(tol_range))\n",
    "for auc, (C, tol) in auc_results.items():\n",
    "    auc_C_avg[C_range.index(C)] += auc\n",
    "    auc_tol_avg[tol_range.index(tol)] += auc\n",
    "auc_C_avg = auc_C_avg / len(tol_range)\n",
    "auc_tol_avg = auc_tol_avg / len(C_range)\n",
    "\n",
    "plt.title(\"AUC vs. Weight Decay\")\n",
    "plt.ylabel(\"AUC\")\n",
    "plt.xlabel(\"weight decay\")\n",
    "\n",
    "plt.xscale('log', basex = 2)\n",
    "plt.plot(C_range, auc_C_avg)\n",
    "plt.show()"
   ]
  },
  {
   "cell_type": "code",
   "execution_count": 14,
   "metadata": {},
   "outputs": [
    {
     "data": {
      "image/png": "[encoded data removed]",
      "text/plain": [
       "<Figure size 432x288 with 1 Axes>"
      ]
     },
     "metadata": {},
     "output_type": "display_data"
    }
   ],
   "source": [
    "plt.title(\"AUC vs. Regression Tolerance\")\n",
    "plt.ylabel(\"AUC\")\n",
    "plt.xlabel(\"tolerance\")\n",
    "\n",
    "plt.xscale('log', basex = 10)\n",
    "plt.plot(tol_range, auc_tol_avg)\n",
    "plt.show()"
   ]
  },
  {
   "cell_type": "code",
   "execution_count": 15,
   "metadata": {},
   "outputs": [
    {
     "name": "stdout",
     "output_type": "stream",
     "text": [
      "[[0.89296906 0.10703094]\n",
      " [0.90635526 0.09364474]\n",
      " [0.6062327  0.3937673 ]\n",
      " [0.30073188 0.69926812]\n",
      " [0.95647411 0.04352589]]\n"
     ]
    }
   ],
   "source": [
    "# fit model and generate outputs\n",
    "C_opt, tol_opt = opt_setting\n",
    "lr = lr_model(x_train, y_train, C = C_opt, penalty = penalty, tol = tol_opt)\n",
    "\n",
    "y_probs_train = lr.predict_proba(x_train)\n",
    "y_probs_val = lr.predict_proba(x_val)\n",
    "print y_probs_val[:5]"
   ]
  },
  {
   "cell_type": "code",
   "execution_count": 16,
   "metadata": {},
   "outputs": [
    {
     "name": "stdout",
     "output_type": "stream",
     "text": [
      "[[False]\n",
      " [False]\n",
      " [ True]\n",
      " [ True]\n",
      " [False]]\n",
      "\n",
      "validation accuracy 0.6569968983762087\n",
      "false positive rate 0.3627320954899144\n",
      "true positive rate 0.750261233012014\n"
     ]
    }
   ],
   "source": [
    "# calculate some statistics\n",
    "y_preds_val = y_probs_val[:,1] > 0.2\n",
    "print y_preds_val[:5].reshape(5,1)\n",
    "print \"\\n\", \"validation accuracy\", np.sum(y_preds_val == y_val, dtype=float) / m_val\n",
    "print \"false positive rate\",  np.sum((y_val == 0) * (y_preds_val == 1)) / (np.sum(y_val == 0, dtype=float) + eps)\n",
    "print \"true positive rate\", np.sum((y_val == 1) * (y_preds_val == 1)) / (np.sum(y_val == 1, dtype=float) + eps)"
   ]
  },
  {
   "cell_type": "code",
   "execution_count": 17,
   "metadata": {},
   "outputs": [
    {
     "name": "stdout",
     "output_type": "stream",
     "text": [
      "[0.9999999999977895, 0.9999999999977895, 0.9999999999977895, 0.9999999999977895]\n",
      "[0.9999999999895507, 0.9999999999895507, 0.9999999999895507, 0.9999999999895507]\n"
     ]
    }
   ],
   "source": [
    "# generate ROC curve\n",
    "train_fprs, train_tprs, val_fprs, val_tprs  = [], [], [], []\n",
    "for threshold in np.arange(step_size,1,step_size):\n",
    "    y_preds_val = y_probs_val[:,1] > threshold\n",
    "    val_fprs.append(np.sum((y_val == 0) * (y_preds_val == 1)) / (np.sum(y_val == 0) + eps))\n",
    "    val_tprs.append(np.sum((y_val == 1) * (y_preds_val == 1)) / (np.sum(y_val == 1) + eps))\n",
    "    \n",
    "    y_preds_train = y_probs_train[:,1] > threshold\n",
    "    train_fprs.append(np.sum((y_train == 0) * (y_preds_train == 1)) / (np.sum(y_train == 0) + eps))\n",
    "    train_tprs.append(np.sum((y_train == 1) * (y_preds_train == 1)) / (np.sum(y_train == 1) + eps))\n",
    "print val_fprs[:4]\n",
    "print val_tprs[:4]"
   ]
  },
  {
   "cell_type": "code",
   "execution_count": 18,
   "metadata": {},
   "outputs": [
    {
     "data": {
      "image/png": "[encoded data removed]",
      "text/plain": [
       "<Figure size 432x288 with 1 Axes>"
      ]
     },
     "metadata": {},
     "output_type": "display_data"
    }
   ],
   "source": [
    "# plot ROC curve\n",
    "plt.title(\"ROC Curve for Logistic Regression\")\n",
    "plt.ylabel(\"true positive rate\")\n",
    "plt.xlabel(\"false positive rate\")\n",
    "\n",
    "valplt, = plt.plot(val_fprs,val_tprs,label='validation')\n",
    "trainplt, = plt.plot(train_fprs,train_tprs,label='train')\n",
    "plt.legend(handles = [valplt, trainplt])\n",
    "\n",
    "plt.show()"
   ]
  },
  {
   "cell_type": "code",
   "execution_count": 19,
   "metadata": {},
   "outputs": [
    {
     "name": "stdout",
     "output_type": "stream",
     "text": [
      "0.7577646953294151\n"
     ]
    }
   ],
   "source": [
    "auc = 0\n",
    "x_prev = 0\n",
    "for x, y in zip(sorted(val_fprs), sorted(val_tprs)):\n",
    "    auc += (x - x_prev)*y\n",
    "    x_prev = x\n",
    "print auc"
   ]
  },
  {
   "cell_type": "code",
   "execution_count": 20,
   "metadata": {},
   "outputs": [
    {
     "name": "stdout",
     "output_type": "stream",
     "text": [
      "done\n"
     ]
    }
   ],
   "source": [
    "# save ROC curve\n",
    "with open(\"logistic_roc.csv\", \"w\") as file:\n",
    "    file.write(\"threshold,fpr,tpr\\n\")\n",
    "    for i, (fpr, tpr) in enumerate(zip(val_fprs, val_tprs), 1):\n",
    "        file.write(str(step_size * i) + \",\" + str(fpr) + \",\" + str(tpr) + \"\\n\")\n",
    "print \"done\""
   ]
  },
  {
   "cell_type": "code",
   "execution_count": 21,
   "metadata": {},
   "outputs": [
    {
     "name": "stdout",
     "output_type": "stream",
     "text": [
      "best threshold:  0.3962\n",
      "highest sensitivity:  0.49216300939924595\n",
      "highest specificity:  0.8583112290011974\n"
     ]
    }
   ],
   "source": [
    "# find best threshold\n",
    "senses = np.array(val_tprs, dtype=float) + eps\n",
    "specs = 1 - np.array(val_fprs, dtype=float) + eps\n",
    "# h_mean = 2. / (1 / senses + 1 / specs)\n",
    "p = np.sum(y_val == 1) / float(len(y_val))\n",
    "h_mean = 2. / (1 / ((1 - p) * senses) + 1 / (p * specs))\n",
    "opt_index = np.argmax(h_mean)\n",
    "opt_threshold = opt_index*step_size\n",
    "\n",
    "print \"best threshold: \" , opt_threshold\n",
    "print \"highest sensitivity: \", val_tprs[opt_index]\n",
    "print \"highest specificity: \", 1 - val_fprs[opt_index]"
   ]
  },
  {
   "cell_type": "code",
   "execution_count": 22,
   "metadata": {},
   "outputs": [
    {
     "name": "stdout",
     "output_type": "stream",
     "text": [
      "[0.18455923 0.16351092 0.2397592  0.05453853 0.44107269]\n",
      "[False False False False  True]\n"
     ]
    }
   ],
   "source": [
    "# make predictions\n",
    "y_probs_train = lr.predict_proba(x_train)[:,1]\n",
    "y_preds_train = y_probs_train > opt_threshold\n",
    "\n",
    "y_probs_test = lr.predict_proba(x_test)[:,1]\n",
    "y_preds_test = y_probs_test > opt_threshold\n",
    "\n",
    "print y_probs_test[:5]\n",
    "print y_preds_test[:5]"
   ]
  },
  {
   "cell_type": "code",
   "execution_count": 23,
   "metadata": {},
   "outputs": [
    {
     "name": "stdout",
     "output_type": "stream",
     "text": [
      "Training set\n",
      "predicted proportion of defaults:  0.13379253717726486\n",
      "accuracy:  0.861075631785421\n",
      "auc: 0.8428325129389924\n",
      "\n",
      "Test set\n",
      "predicted proportion of defaults:  0.2435686918445539\n",
      "accuracy:  0.7633643495712461\n",
      "sensivity: 0.5224056603711981\n",
      "specificity: 0.8074681631776226\n",
      "auc: 0.7408503496143757\n"
     ]
    }
   ],
   "source": [
    "# training set statistics\n",
    "print 'Training set'\n",
    "print 'predicted proportion of defaults: ', np.sum(y_preds_train == 1) / m_train\n",
    "print 'accuracy: ', np.sum(y_preds_train == y_train) / m_train\n",
    "print 'auc:', calc_auc(x_train, y_train, C = C_opt, penalty = penalty, tol = tol_opt)\n",
    "\n",
    "# test set statistics\n",
    "print '\\nTest set'\n",
    "print 'predicted proportion of defaults: ', np.sum(y_preds_test == 1) / m_test\n",
    "print 'accuracy: ', np.sum(y_preds_test == y_test) / m_test\n",
    "print 'sensivity:', np.sum((y_test == 1) * (y_preds_test == 1)) / (np.sum(y_test == 1) + eps)\n",
    "print 'specificity:', 1 - np.sum((y_test == 0) * (y_preds_test == 1)) / (np.sum(y_test == 0) + eps)\n",
    "print 'auc:', calc_auc(x_test, y_test, C = C_opt, penalty = penalty, tol = tol_opt)"
   ]
  },
  {
   "cell_type": "code",
   "execution_count": 24,
   "metadata": {},
   "outputs": [
    {
     "name": "stdout",
     "output_type": "stream",
     "text": [
      "precision:  0.331835 \trecall: 0.522406 \tF1 score: 0.405864\n"
     ]
    }
   ],
   "source": [
    "# calculate F1 score\n",
    "precision = np.sum((y_test == 1) * (y_preds_test == 1)) / (np.sum(y_preds_test == 1) + eps)\n",
    "recall = np.sum((y_test == 1) * (y_preds_test == 1)) / (np.sum(y_test == 1) + eps)\n",
    "F1 = 2/(1 / (precision + eps) + 1 / (recall + eps))\n",
    "print \"precision: \", round(precision,6), \"\\trecall:\", round(recall,6), \"\\tF1 score:\", round(F1,6)"
   ]
  },
  {
   "cell_type": "code",
   "execution_count": 25,
   "metadata": {},
   "outputs": [
    {
     "name": "stdout",
     "output_type": "stream",
     "text": [
      "[('ApprovalFiscalYear', 36920.5968964678), ('CPI', 9523.626073146559), ('Log_HPI_Norm', 5348.983500628696)]\n"
     ]
    }
   ],
   "source": [
    "# likelihood estimation\n",
    "def log_likelihood(probs, y):\n",
    "    return np.sum(np.log(probs[np.arange(len(probs)),y*1]))\n",
    "\n",
    "full_ll = log_likelihood(lr.predict_proba(x_train), y_train)\n",
    "\n",
    "ll_ratio_test = []\n",
    "for column in x_train.columns:\n",
    "    x_temp = x_train.copy()\n",
    "    x_temp[column] = 0\n",
    "    temp_ll = log_likelihood(lr.predict_proba(x_temp), y_train)\n",
    "    ll_ratio_test.append((column,2*(full_ll - temp_ll)))\n",
    "    \n",
    "ll_ratio_test = sorted(ll_ratio_test, key=lambda t: (-t[1], t[0]))\n",
    "print ll_ratio_test[:3]"
   ]
  },
  {
   "cell_type": "code",
   "execution_count": 26,
   "metadata": {},
   "outputs": [
    {
     "name": "stdout",
     "output_type": "stream",
     "text": [
      "('ApprovalFiscalYear', 36920.5968964678)\n",
      "('CPI', 9523.626073146559)\n",
      "('Log_HPI_Norm', 5348.983500628696)\n",
      "('ThirdPartyLender_State_MISSING', 1202.94565976812)\n",
      "('BorrState_CA', 558.4068838097301)\n",
      "('ProjectState_CA', 517.3811701389386)\n",
      "('2DigitNaics_72', 318.96295047353124)\n",
      "('SP500_Yearly_Return', 219.99565615836036)\n",
      "('Yearly_Unemployment_Rate', 212.66201169505075)\n",
      "('CDC_State_CA', 163.2735138730386)\n",
      "('2DigitNaics_62', 99.63882333517904)\n",
      "('Log_Yearly_Unemployment_Rate_Norm', 86.05743343308131)\n",
      "('TermInMonths', 82.60923153084877)\n",
      "('2DigitNaics_54', 78.59494612960043)\n",
      "('2DigitNaics_71', 65.97070907693706)\n",
      "\n",
      "('ProjectState_PW', 0.007873467347963015)\n",
      "('2DigitNaics_55', 0.006530766870127991)\n",
      "('2DigitNaics_92', 0.004703094786236761)\n",
      "('subpgmdesc_Sec. 504 - Delta loans, funded 9/26/95', 0.0046138376637827605)\n",
      "('ThirdPartyLender_State_GU', 0.0032863174710655585)\n",
      "('ThirdPartyLender_State_AB', 0.0029998708523635287)\n",
      "('2DigitNaics_45', 0.002361404254770605)\n",
      "('2DigitNaics_99', 0.0011774118211178575)\n",
      "('ProjectState_MISSING', 0.00028633628608076833)\n",
      "('CDC_State_AK', 0.0002826245727192145)\n",
      "('ThirdPartyLender_State_D.', 0.0)\n",
      "('ThirdPartyLender_State_Ro', 0.0)\n",
      "('ThirdPartyLender_State_AK', -0.0001242706857738085)\n",
      "('DeliveryMethod_PCLP', -0.021513438874535495)\n",
      "('subpgmdesc_Sec. 504 - Premier Certified Lender Program', -0.021513438874535495)\n"
     ]
    }
   ],
   "source": [
    "for i in range(15):\n",
    "    print ll_ratio_test[i]\n",
    "print \"\"\n",
    "for i in range(-15,0):\n",
    "    print ll_ratio_test[i]"
   ]
  },
  {
   "cell_type": "code",
   "execution_count": null,
   "metadata": {},
   "outputs": [],
   "source": []
  }
 ],
 "metadata": {
  "kernelspec": {
   "display_name": "Python 2",
   "language": "python",
   "name": "python2"
  },
  "language_info": {
   "codemirror_mode": {
    "name": "ipython",
    "version": 2
   },
   "file_extension": ".py",
   "mimetype": "text/x-python",
   "name": "python",
   "nbconvert_exporter": "python",
   "pygments_lexer": "ipython2",
   "version": "2.7.14"
  }
 },
 "nbformat": 4,
 "nbformat_minor": 2
}
