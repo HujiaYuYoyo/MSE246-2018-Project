{
 "cells": [
  {
   "cell_type": "code",
   "execution_count": 15,
   "metadata": {},
   "outputs": [],
   "source": [
    "# Import relevant libraries\n",
    "import pandas as pd\n",
    "import numpy as np\n",
    "from sklearn.linear_model import Lasso, Ridge\n",
    "\n",
    "%matplotlib inline\n",
    "import matplotlib \n",
    "import matplotlib.pyplot as plt\n",
    "\n",
    "regression = Ridge"
   ]
  },
  {
   "cell_type": "code",
   "execution_count": 3,
   "metadata": {},
   "outputs": [
    {
     "name": "stdout",
     "output_type": "stream",
     "text": [
      "BorrCity                              object\n",
      "BorrState                             object\n",
      "BorrZip                               object\n",
      "CDC_City                              object\n",
      "CDC_State                             object\n",
      "CDC_Zip                               object\n",
      "ThirdPartyLender_City                 object\n",
      "ThirdPartyLender_State                object\n",
      "GrossApproval                        float64\n",
      "ApprovalDate                          object\n",
      "ApprovalFiscalYear                     int64\n",
      "DeliveryMethod                        object\n",
      "subpgmdesc                            object\n",
      "TermInMonths                           int64\n",
      "ProjectCounty                         object\n",
      "ProjectState                          object\n",
      "BusinessType                          object\n",
      "LoanStatus                            object\n",
      "ChargeOffDate                         object\n",
      "GrossChargeOffAmount                 float64\n",
      "SP500_Yearly_Return                  float64\n",
      "CPI                                  float64\n",
      "Yearly_Unemployment_Rate             float64\n",
      "Log_GrossApproval_Norm               float64\n",
      "Log_Yearly_Unemployment_Rate_Norm    float64\n",
      "Log_HPI_Norm                         float64\n",
      "ThirdPartyDollars_Norm               float64\n",
      "TermMultipleYear                        bool\n",
      "RepeatBorrower                         int64\n",
      "BankStateneqBorrowerState               bool\n",
      "ProjectStateneqBorrowerState            bool\n",
      "2DigitNaics                           object\n",
      "dtype: object\n"
     ]
    }
   ],
   "source": [
    "# load data\n",
    "train = pd.read_csv(\"data/random_train0314.csv\")\n",
    "test = pd.read_csv(\"data/random_test0314.csv\")\n",
    "val = pd.read_csv(\"data/random_val0314.csv\")\n",
    "\n",
    "train = train[train.LoanStatus == \"CHGOFF\"]\n",
    "test = test[test.LoanStatus == \"CHGOFF\"]\n",
    "val = val[val.LoanStatus == \"CHGOFF\"]\n",
    "\n",
    "print train.dtypes"
   ]
  },
  {
   "cell_type": "code",
   "execution_count": 4,
   "metadata": {},
   "outputs": [
    {
     "name": "stdout",
     "output_type": "stream",
     "text": [
      "17 covariates\n",
      "['BorrState', 'ApprovalFiscalYear', 'subpgmdesc', 'TermInMonths', 'BusinessType', 'ChargeOffDate', 'SP500_Yearly_Return', 'CPI', 'Log_GrossApproval_Norm', 'Log_Yearly_Unemployment_Rate_Norm', 'Log_HPI_Norm', 'ThirdPartyDollars_Norm', 'TermMultipleYear', 'RepeatBorrower', 'BankStateneqBorrowerState', 'ProjectStateneqBorrowerState', '2DigitNaics']\n"
     ]
    }
   ],
   "source": [
    "# remove variables we don't want\n",
    "c = train.columns.tolist()\n",
    "dropped_columns = ['LoanStatus', 'GrossChargeOffAmount', 'BorrZip', 'CDC_Zip', 'BorrCity',\n",
    "                   'CDC_City', 'ThirdPartyLender_City', 'ProjectCounty', 'ApprovalDate',\n",
    "                   'CDC_State', 'ThirdPartyLender_State', 'ProjectState', 'GrossApproval',\n",
    "                   'Yearly_Unemployment_Rate', 'DeliveryMethod']\n",
    "for col in dropped_columns:\n",
    "    c.remove(col)\n",
    "print(len(c)), \"covariates\"\n",
    "print c"
   ]
  },
  {
   "cell_type": "code",
   "execution_count": 5,
   "metadata": {},
   "outputs": [
    {
     "name": "stdout",
     "output_type": "stream",
     "text": [
      "0     20130131\n",
      "7     20030313\n",
      "8     20081119\n",
      "20    20130521\n",
      "21    20110325\n",
      "Name: ChargeOffDate, dtype: int64\n"
     ]
    }
   ],
   "source": [
    "# convert datetimes to numerical variables\n",
    "def date_hash(date):\n",
    "    date, _ = date.strip().split(\" \", 1)\n",
    "    y,m,d = map(int,date.split('-'))\n",
    "    return y*10**4 + m*10**2 + d\n",
    "train['ChargeOffDate'] = train.ChargeOffDate.map(date_hash)\n",
    "test['ChargeOffDate'] = test.ChargeOffDate.map(date_hash)\n",
    "val['ChargeOffDate'] = val.ChargeOffDate.map(date_hash)\n",
    "\n",
    "print train['ChargeOffDate'].head()"
   ]
  },
  {
   "cell_type": "code",
   "execution_count": 6,
   "metadata": {},
   "outputs": [
    {
     "name": "stdout",
     "output_type": "stream",
     "text": [
      "(7177, 17)\n"
     ]
    }
   ],
   "source": [
    "x_train = train[c]\n",
    "x_test = test[c]\n",
    "x_val = val[c]\n",
    "\n",
    "print x_train.shape"
   ]
  },
  {
   "cell_type": "code",
   "execution_count": 7,
   "metadata": {},
   "outputs": [
    {
     "name": "stdout",
     "output_type": "stream",
     "text": [
      "approx. number of covariate levels: 83\n",
      "BorrState       object\n",
      "subpgmdesc      object\n",
      "BusinessType    object\n",
      "2DigitNaics     object\n",
      "dtype: object\n"
     ]
    }
   ],
   "source": [
    "# estimate how many covariates we add by the expanding categorical columns\n",
    "numerics = x_train.select_dtypes(include=[np.number,'bool'])\n",
    "cats = x_train.drop(columns=numerics.columns)\n",
    "\n",
    "uniques = np.unique(cats.values)\n",
    "\n",
    "print \"approx. number of covariate levels:\", len(uniques)\n",
    "print cats.dtypes"
   ]
  },
  {
   "cell_type": "code",
   "execution_count": 8,
   "metadata": {},
   "outputs": [
    {
     "name": "stdout",
     "output_type": "stream",
     "text": [
      "(7177, 97)\n",
      "(7177, 97)\n"
     ]
    }
   ],
   "source": [
    "x_train = pd.get_dummies(x_train, columns = cats.columns)\n",
    "x_test = pd.get_dummies(x_test)\n",
    "x_val = pd.get_dummies(x_val)\n",
    "\n",
    "print x_train.shape\n",
    "\n",
    "def add_missing_columns(d1, d2):\n",
    "    missing_cols_2 = (set(d1.columns) - set(d2.columns))\n",
    "    missing_cols_1 = (set(d2.columns) - set(d1.columns))\n",
    "    for c in missing_cols_2:\n",
    "        d2[c] = 0\n",
    "    for c in missing_cols_1:\n",
    "        d1[c] = 0\n",
    "    return d1, d2\n",
    "\n",
    "x_train, x_test = add_missing_columns(x_train, x_test)\n",
    "x_train, x_val = add_missing_columns(x_train, x_val)\n",
    "x_test, x_val = add_missing_columns(x_test, x_val)\n",
    "\n",
    "# x_train = x_train.astype(float)\n",
    "# x_test = x_test.astype(float)\n",
    "# x_val = x_val.astype(float)\n",
    "\n",
    "print x_train.shape"
   ]
  },
  {
   "cell_type": "code",
   "execution_count": 9,
   "metadata": {},
   "outputs": [
    {
     "name": "stdout",
     "output_type": "stream",
     "text": [
      "[0.57886778 0.         0.99763303 0.96678284 0.71542593 0.97389368]\n"
     ]
    }
   ],
   "source": [
    "# create a new column for the loss ratio\n",
    "y_train = train.GrossChargeOffAmount.values/train.GrossApproval.values\n",
    "y_test = test.GrossChargeOffAmount.values/test.GrossApproval.values\n",
    "y_val = val.GrossChargeOffAmount.values/val.GrossApproval.values\n",
    "\n",
    "print y_train[:6]"
   ]
  },
  {
   "cell_type": "code",
   "execution_count": 11,
   "metadata": {},
   "outputs": [
    {
     "name": "stdout",
     "output_type": "stream",
     "text": [
      "256 : 0.4089028503004434\n"
     ]
    }
   ],
   "source": [
    "# hyperparameter search\n",
    "alpha_range = [2**i for i in range(-5,20)]\n",
    "u_results = {}\n",
    "for alpha in alpha_range:\n",
    "    model = regression(alpha = alpha)\n",
    "    model.fit(x_train, y_train)\n",
    "    u = model.score(x_val,y_val)\n",
    "    u_results[u] = alpha\n",
    "opt_u = np.max(u_results.keys())\n",
    "opt_setting = u_results[opt_u]\n",
    "\n",
    "print opt_setting, \":\", opt_u"
   ]
  },
  {
   "cell_type": "code",
   "execution_count": 12,
   "metadata": {},
   "outputs": [
    {
     "data": {
      "image/png": "[encoded data removed]",
      "text/plain": [
       "<Figure size 432x288 with 1 Axes>"
      ]
     },
     "metadata": {},
     "output_type": "display_data"
    }
   ],
   "source": [
    "plt.xscale('log', basex = 2)\n",
    "plt.scatter(u_results.values(), u_results.keys())\n",
    "plt.show()"
   ]
  },
  {
   "cell_type": "code",
   "execution_count": 13,
   "metadata": {
    "scrolled": true
   },
   "outputs": [
    {
     "data": {
      "text/plain": [
       "Ridge(alpha=256, copy_X=True, fit_intercept=True, max_iter=None,\n",
       "   normalize=False, random_state=None, solver='auto', tol=0.001)"
      ]
     },
     "execution_count": 13,
     "metadata": {},
     "output_type": "execute_result"
    }
   ],
   "source": [
    "opt_alpha = opt_setting\n",
    "\n",
    "model = regression(alpha = opt_alpha)\n",
    "model.fit(x_train, y_train)"
   ]
  },
  {
   "cell_type": "code",
   "execution_count": 14,
   "metadata": {},
   "outputs": [
    {
     "name": "stdout",
     "output_type": "stream",
     "text": [
      "Training set performance\n",
      "R^2: 0.4173932091460114\n",
      "L2 loss: 0.07349495338364898\n",
      "\n",
      "Test set performance\n",
      "R^2: 0.4174087247236652\n",
      "L2 loss: 0.06951916264196448\n"
     ]
    }
   ],
   "source": [
    "# train performance\n",
    "print 'Training set performance'\n",
    "print 'R^2:', model.score(x_train, y_train)\n",
    "l2_loss = np.sum((model.predict(x_train) - y_train)**2)/len(y_train)\n",
    "print 'L2 loss:', l2_loss \n",
    "\n",
    "# test performance\n",
    "print '\\nTest set performance'\n",
    "print 'R^2:', model.score(x_test, y_test)\n",
    "l2_loss = np.sum((model.predict(x_test) - y_test)**2)/len(y_test)\n",
    "print 'L2 loss:', l2_loss"
   ]
  },
  {
   "cell_type": "code",
   "execution_count": null,
   "metadata": {},
   "outputs": [],
   "source": [
    "# NOTE: When this is a good model, move this code into the other loss notebook in order to run \n",
    "# everything to completion"
   ]
  },
  {
   "cell_type": "code",
   "execution_count": null,
   "metadata": {},
   "outputs": [],
   "source": [
    "# # Read in train dataset from hazard model pre-processing because we want the duration instead of gross approval date\n",
    "# # (TODO: replace with final train data.)\n",
    "# print \"Number of train points:\", train_data.shape[0]\n",
    "\n",
    "# # Only want defaulted loans\n",
    "# train_data = train_data[train_data.LoanStatus == 'CHGOFF']\n",
    "# print \"Number of defaulted train points:\", train_data.shape[0]\n",
    "\n",
    "# train_data.head()"
   ]
  }
 ],
 "metadata": {
  "anaconda-cloud": {},
  "kernelspec": {
   "display_name": "Python 2",
   "language": "python",
   "name": "python2"
  },
  "language_info": {
   "codemirror_mode": {
    "name": "ipython",
    "version": 2
   },
   "file_extension": ".py",
   "mimetype": "text/x-python",
   "name": "python",
   "nbconvert_exporter": "python",
   "pygments_lexer": "ipython2",
   "version": "2.7.14"
  }
 },
 "nbformat": 4,
 "nbformat_minor": 1
}
