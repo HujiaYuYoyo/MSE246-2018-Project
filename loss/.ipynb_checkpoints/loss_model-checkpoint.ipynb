{
 "cells": [
  {
   "cell_type": "code",
   "execution_count": 22,
   "metadata": {},
   "outputs": [],
   "source": [
    "# Import relevant libraries\n",
    "import pandas as pd\n",
    "import numpy as np\n",
    "from sklearn.linear_model import Lasso\n",
    "\n",
    "%matplotlib inline\n",
    "import matplotlib \n",
    "import matplotlib.pyplot as plt\n",
    "\n",
    "# Set seed for any random operations\n",
    "random.seed(1)"
   ]
  },
  {
   "cell_type": "code",
   "execution_count": 23,
   "metadata": {},
   "outputs": [],
   "source": [
    "# hyperparameters\n",
    "alpha = 0.05"
   ]
  },
  {
   "cell_type": "code",
   "execution_count": 25,
   "metadata": {},
   "outputs": [
    {
     "name": "stdout",
     "output_type": "stream",
     "text": [
      "(5340, 264)\n"
     ]
    }
   ],
   "source": [
    "# load data\n",
    "train = pd.read_csv(\"data/sorted_train0314.csv\")\n",
    "test = pd.read_csv(\"data/sorted_test0314.csv\")\n",
    "val = pd.read_csv(\"data/sorted_val0314.csv\")\n",
    "\n",
    "train = train[train.LoanStatus == \"CHGOFF\"]\n",
    "test = test[test.LoanStatus == \"CHGOFF\"]\n",
    "val = val[val.LoanStatus == \"CHGOFF\"]\n",
    "\n",
    "# filtering for the columns you don't want to include for your model\n",
    "c = train.columns.tolist()\n",
    "dropped_columns = ['LoanStatus', 'GrossChargeOffAmount', 'ChargeOffDate', 'BorrZip', 'CDC_Zip', 'BorrCity',\n",
    "                   'CDC_City', 'ThirdPartyLender_City', 'ProjectCounty', 'ApprovalDate']\n",
    "for col in dropped_columns:\n",
    "    c.remove(col)\n",
    "\n",
    "# seperate data into covariates and targets\n",
    "x_train = train[c]\n",
    "x_test = test[c]\n",
    "x_val = val[c]\n",
    "\n",
    "x_train = pd.get_dummies(x_train)\n",
    "x_test = pd.get_dummies(x_test)\n",
    "x_val = pd.get_dummies(x_val)\n",
    "\n",
    "def add_missing_columns(d1, d2):\n",
    "    missing_cols_2 = (set(d1.columns) - set(d2.columns))\n",
    "    missing_cols_1 = (set(d2.columns) - set(d1.columns))\n",
    "    for c in missing_cols_2:\n",
    "        d2[c] = 0\n",
    "    for c in missing_cols_1:\n",
    "        d1[c] = 0\n",
    "    return d1, d2\n",
    "\n",
    "x_train, x_test = add_missing_columns(x_train, x_test)\n",
    "x_train, x_val = add_missing_columns(x_train, x_val)\n",
    "x_test, x_val = add_missing_columns(x_test, x_val)\n",
    "\n",
    "print x_train.shape"
   ]
  },
  {
   "cell_type": "code",
   "execution_count": 29,
   "metadata": {},
   "outputs": [
    {
     "name": "stdout",
     "output_type": "stream",
     "text": [
      "[0.         0.74289104 0.80586228 1.         0.75090533 0.91868092]\n"
     ]
    }
   ],
   "source": [
    "# create a new column for the loss ratio\n",
    "y_train = np.minimum(train.GrossChargeOffAmount.values/train.GrossApproval.values,1.)\n",
    "y_test = np.minimum(test.GrossChargeOffAmount.values/test.GrossApproval.values,1.)\n",
    "y_val = np.minimum(val.GrossChargeOffAmount.values/val.GrossApproval.values,1.)\n",
    "\n",
    "print y_train[:6]"
   ]
  },
  {
   "cell_type": "code",
   "execution_count": 39,
   "metadata": {},
   "outputs": [
    {
     "name": "stdout",
     "output_type": "stream",
     "text": [
      "(0.25, 0.01) : 0.05625732820492848\n"
     ]
    }
   ],
   "source": [
    "# hyperparameter search\n",
    "alpha_range = [2**i for i in range(-5,5)]\n",
    "tol_range = [10**i for i in range(-8, -1)]\n",
    "loss_results = {}\n",
    "for alpha in alpha_range:\n",
    "    for tol in tol_range:\n",
    "        model = Lasso(alpha = alpha, tol=tol)\n",
    "        model.fit(x_train, y_train)\n",
    "        loss_results[np.sum((model.predict(x_test) - y_test)**2)/len(y_test)] = (alpha, tol)\n",
    "opt_loss = np.min(loss_results.keys())\n",
    "opt_setting = loss_results[opt_loss]\n",
    "\n",
    "print opt_setting, \":\", opt_loss"
   ]
  },
  {
   "cell_type": "code",
   "execution_count": 40,
   "metadata": {
    "scrolled": true
   },
   "outputs": [
    {
     "name": "stdout",
     "output_type": "stream",
     "text": [
      "0.3496702319833837\n",
      "0.05885626762883776\n"
     ]
    }
   ],
   "source": [
    "opt_alpha, opt_tol = opt_setting\n",
    "\n",
    "# Fit to a baseline linear regression model\n",
    "model = Lasso(alpha = opt_alpha, tol = opt_tol)\n",
    "model.fit(x_train, y_train)\n",
    "\n",
    "# Test validity\n",
    "print(model.score(x_train,y_train))\n",
    "l2_loss = np.sum((model.predict(x_test) - y_test)**2)/len(y_test)\n",
    "print(loss)"
   ]
  },
  {
   "cell_type": "code",
   "execution_count": null,
   "metadata": {},
   "outputs": [],
   "source": []
  },
  {
   "cell_type": "code",
   "execution_count": null,
   "metadata": {
    "collapsed": true
   },
   "outputs": [],
   "source": [
    "# LINK: https://towardsdatascience.com/simple-and-multiple-linear-regression-in-python-c928425168f9"
   ]
  },
  {
   "cell_type": "code",
   "execution_count": null,
   "metadata": {
    "collapsed": true
   },
   "outputs": [],
   "source": [
    "# NOTE: When this is a good model, move this code into the other loss notebook in order to run \n",
    "# everything to completion"
   ]
  },
  {
   "cell_type": "code",
   "execution_count": 16,
   "metadata": {},
   "outputs": [
    {
     "name": "stdout",
     "output_type": "stream",
     "text": [
      "Number of train points: 43844\n",
      "Number of defaulted train points: 5340\n"
     ]
    },
    {
     "data": {
      "text/html": [
       "<div>\n",
       "<style scoped>\n",
       "    .dataframe tbody tr th:only-of-type {\n",
       "        vertical-align: middle;\n",
       "    }\n",
       "\n",
       "    .dataframe tbody tr th {\n",
       "        vertical-align: top;\n",
       "    }\n",
       "\n",
       "    .dataframe thead th {\n",
       "        text-align: right;\n",
       "    }\n",
       "</style>\n",
       "<table border=\"1\" class=\"dataframe\">\n",
       "  <thead>\n",
       "    <tr style=\"text-align: right;\">\n",
       "      <th></th>\n",
       "      <th>BorrCity</th>\n",
       "      <th>BorrState</th>\n",
       "      <th>BorrZip</th>\n",
       "      <th>CDC_City</th>\n",
       "      <th>CDC_State</th>\n",
       "      <th>CDC_Zip</th>\n",
       "      <th>ThirdPartyLender_City</th>\n",
       "      <th>ThirdPartyLender_State</th>\n",
       "      <th>GrossApproval</th>\n",
       "      <th>ApprovalDate</th>\n",
       "      <th>...</th>\n",
       "      <th>Yearly_Unemployment_Rate</th>\n",
       "      <th>Log_GrossApproval_Norm</th>\n",
       "      <th>Log_Yearly_Unemployment_Rate_Norm</th>\n",
       "      <th>Log_HPI_Norm</th>\n",
       "      <th>ThirdPartyDollars_Norm</th>\n",
       "      <th>TermMultipleYear</th>\n",
       "      <th>RepeatBorrower</th>\n",
       "      <th>BankStateneqBorrowerState</th>\n",
       "      <th>ProjectStateneqBorrowerState</th>\n",
       "      <th>2DigitNaics</th>\n",
       "    </tr>\n",
       "  </thead>\n",
       "  <tbody>\n",
       "    <tr>\n",
       "      <th>9</th>\n",
       "      <td>WINCHESTER</td>\n",
       "      <td>NH</td>\n",
       "      <td>3470</td>\n",
       "      <td>Portsmouth</td>\n",
       "      <td>NH</td>\n",
       "      <td>3801.0</td>\n",
       "      <td>Peterborough</td>\n",
       "      <td>NH</td>\n",
       "      <td>117000.0</td>\n",
       "      <td>2005-09-09</td>\n",
       "      <td>...</td>\n",
       "      <td>3.6</td>\n",
       "      <td>-1.326186</td>\n",
       "      <td>-1.202145</td>\n",
       "      <td>1.205491</td>\n",
       "      <td>-0.069791</td>\n",
       "      <td>True</td>\n",
       "      <td>0</td>\n",
       "      <td>False</td>\n",
       "      <td>False</td>\n",
       "      <td>44</td>\n",
       "    </tr>\n",
       "    <tr>\n",
       "      <th>32</th>\n",
       "      <td>PRESCOTT VALLEY</td>\n",
       "      <td>AZ</td>\n",
       "      <td>86314</td>\n",
       "      <td>Tuscon</td>\n",
       "      <td>AZ</td>\n",
       "      <td>85711.0</td>\n",
       "      <td>MISSING</td>\n",
       "      <td>MISSING</td>\n",
       "      <td>670000.0</td>\n",
       "      <td>2002-03-08</td>\n",
       "      <td>...</td>\n",
       "      <td>6.1</td>\n",
       "      <td>0.910007</td>\n",
       "      <td>0.656163</td>\n",
       "      <td>-0.044474</td>\n",
       "      <td>-0.377878</td>\n",
       "      <td>True</td>\n",
       "      <td>0</td>\n",
       "      <td>False</td>\n",
       "      <td>False</td>\n",
       "      <td>72</td>\n",
       "    </tr>\n",
       "    <tr>\n",
       "      <th>51</th>\n",
       "      <td>NORTH TONAWANDA</td>\n",
       "      <td>NY</td>\n",
       "      <td>14120</td>\n",
       "      <td>Albany</td>\n",
       "      <td>NY</td>\n",
       "      <td>12207.0</td>\n",
       "      <td>MISSING</td>\n",
       "      <td>MISSING</td>\n",
       "      <td>167000.0</td>\n",
       "      <td>1996-09-30</td>\n",
       "      <td>...</td>\n",
       "      <td>6.3</td>\n",
       "      <td>-0.870235</td>\n",
       "      <td>0.769845</td>\n",
       "      <td>-0.406093</td>\n",
       "      <td>-0.377878</td>\n",
       "      <td>True</td>\n",
       "      <td>0</td>\n",
       "      <td>False</td>\n",
       "      <td>False</td>\n",
       "      <td>71</td>\n",
       "    </tr>\n",
       "    <tr>\n",
       "      <th>54</th>\n",
       "      <td>PITTSBURGH</td>\n",
       "      <td>PA</td>\n",
       "      <td>15203</td>\n",
       "      <td>Pittsburgh</td>\n",
       "      <td>PA</td>\n",
       "      <td>15203.0</td>\n",
       "      <td>MISSING</td>\n",
       "      <td>MISSING</td>\n",
       "      <td>127000.0</td>\n",
       "      <td>2000-08-11</td>\n",
       "      <td>...</td>\n",
       "      <td>4.1</td>\n",
       "      <td>-1.221093</td>\n",
       "      <td>-0.743860</td>\n",
       "      <td>-0.487009</td>\n",
       "      <td>-0.377878</td>\n",
       "      <td>True</td>\n",
       "      <td>0</td>\n",
       "      <td>False</td>\n",
       "      <td>False</td>\n",
       "      <td>MI</td>\n",
       "    </tr>\n",
       "    <tr>\n",
       "      <th>56</th>\n",
       "      <td>COLONIE</td>\n",
       "      <td>NY</td>\n",
       "      <td>12205</td>\n",
       "      <td>Albany</td>\n",
       "      <td>NY</td>\n",
       "      <td>12207.0</td>\n",
       "      <td>MISSING</td>\n",
       "      <td>MISSING</td>\n",
       "      <td>750000.0</td>\n",
       "      <td>1997-09-29</td>\n",
       "      <td>...</td>\n",
       "      <td>6.4</td>\n",
       "      <td>1.054544</td>\n",
       "      <td>0.825340</td>\n",
       "      <td>-0.380881</td>\n",
       "      <td>-0.377878</td>\n",
       "      <td>True</td>\n",
       "      <td>0</td>\n",
       "      <td>False</td>\n",
       "      <td>False</td>\n",
       "      <td>MI</td>\n",
       "    </tr>\n",
       "  </tbody>\n",
       "</table>\n",
       "<p>5 rows × 32 columns</p>\n",
       "</div>"
      ],
      "text/plain": [
       "           BorrCity BorrState BorrZip    CDC_City CDC_State  CDC_Zip  \\\n",
       "9        WINCHESTER        NH    3470  Portsmouth        NH   3801.0   \n",
       "32  PRESCOTT VALLEY        AZ   86314      Tuscon        AZ  85711.0   \n",
       "51  NORTH TONAWANDA        NY   14120      Albany        NY  12207.0   \n",
       "54       PITTSBURGH        PA   15203  Pittsburgh        PA  15203.0   \n",
       "56          COLONIE        NY   12205      Albany        NY  12207.0   \n",
       "\n",
       "   ThirdPartyLender_City ThirdPartyLender_State  GrossApproval ApprovalDate  \\\n",
       "9           Peterborough                     NH       117000.0   2005-09-09   \n",
       "32               MISSING                MISSING       670000.0   2002-03-08   \n",
       "51               MISSING                MISSING       167000.0   1996-09-30   \n",
       "54               MISSING                MISSING       127000.0   2000-08-11   \n",
       "56               MISSING                MISSING       750000.0   1997-09-29   \n",
       "\n",
       "       ...       Yearly_Unemployment_Rate Log_GrossApproval_Norm  \\\n",
       "9      ...                            3.6              -1.326186   \n",
       "32     ...                            6.1               0.910007   \n",
       "51     ...                            6.3              -0.870235   \n",
       "54     ...                            4.1              -1.221093   \n",
       "56     ...                            6.4               1.054544   \n",
       "\n",
       "   Log_Yearly_Unemployment_Rate_Norm  Log_HPI_Norm ThirdPartyDollars_Norm  \\\n",
       "9                          -1.202145      1.205491              -0.069791   \n",
       "32                          0.656163     -0.044474              -0.377878   \n",
       "51                          0.769845     -0.406093              -0.377878   \n",
       "54                         -0.743860     -0.487009              -0.377878   \n",
       "56                          0.825340     -0.380881              -0.377878   \n",
       "\n",
       "   TermMultipleYear RepeatBorrower BankStateneqBorrowerState  \\\n",
       "9              True              0                     False   \n",
       "32             True              0                     False   \n",
       "51             True              0                     False   \n",
       "54             True              0                     False   \n",
       "56             True              0                     False   \n",
       "\n",
       "   ProjectStateneqBorrowerState  2DigitNaics  \n",
       "9                         False           44  \n",
       "32                        False           72  \n",
       "51                        False           71  \n",
       "54                        False           MI  \n",
       "56                        False           MI  \n",
       "\n",
       "[5 rows x 32 columns]"
      ]
     },
     "execution_count": 16,
     "metadata": {},
     "output_type": "execute_result"
    }
   ],
   "source": [
    "# # Read in train dataset from hazard model pre-processing because we want the duration instead of gross approval date\n",
    "# # (TODO: replace with final train data.)\n",
    "# print \"Number of train points:\", train_data.shape[0]\n",
    "\n",
    "# # Only want defaulted loans\n",
    "# train_data = train_data[train_data.LoanStatus == 'CHGOFF']\n",
    "# print \"Number of defaulted train points:\", train_data.shape[0]\n",
    "\n",
    "# train_data.head()"
   ]
  }
 ],
 "metadata": {
  "anaconda-cloud": {},
  "kernelspec": {
   "display_name": "Python 2",
   "language": "python",
   "name": "python2"
  },
  "language_info": {
   "codemirror_mode": {
    "name": "ipython",
    "version": 2
   },
   "file_extension": ".py",
   "mimetype": "text/x-python",
   "name": "python",
   "nbconvert_exporter": "python",
   "pygments_lexer": "ipython2",
   "version": "2.7.14"
  }
 },
 "nbformat": 4,
 "nbformat_minor": 1
}
