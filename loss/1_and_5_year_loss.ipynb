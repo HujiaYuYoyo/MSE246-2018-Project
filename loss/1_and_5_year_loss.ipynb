{
 "cells": [
  {
   "cell_type": "code",
   "execution_count": 52,
   "metadata": {
    "collapsed": false
   },
   "outputs": [],
   "source": [
    "# Import relevant libraries\n",
    "from scipy import stats\n",
    "import scipy as sp\n",
    "import pandas as pd\n",
    "import numpy as np\n",
    "import random\n",
    "import math\n",
    "\n",
    "import matplotlib.pyplot as plt\n",
    "import seaborn as sns\n",
    "\n",
    "# Set seed for any random operations\n",
    "random.seed(1)"
   ]
  },
  {
   "cell_type": "code",
   "execution_count": 7,
   "metadata": {
    "collapsed": false
   },
   "outputs": [
    {
     "name": "stdout",
     "output_type": "stream",
     "text": [
      "Number of test points: 5481\n"
     ]
    }
   ],
   "source": [
    "# Read in test dataset (TODO: test data being used is temporary. replace with final test data.)\n",
    "test_data = pd.read_csv(\"test.csv\")\n",
    "print \"Number of test points:\", test_data.shape[0]"
   ]
  },
  {
   "cell_type": "code",
   "execution_count": 12,
   "metadata": {
    "collapsed": false
   },
   "outputs": [],
   "source": [
    "# Number of simulations we want\n",
    "N = 1000"
   ]
  },
  {
   "cell_type": "code",
   "execution_count": 3,
   "metadata": {
    "collapsed": false
   },
   "outputs": [
    {
     "ename": "SyntaxError",
     "evalue": "invalid syntax (<ipython-input-3-aa393f9270e9>, line 4)",
     "output_type": "error",
     "traceback": [
      "\u001b[0;36m  File \u001b[0;32m\"<ipython-input-3-aa393f9270e9>\"\u001b[0;36m, line \u001b[0;32m4\u001b[0m\n\u001b[0;31m    default_prob = # hand-calculate\u001b[0m\n\u001b[0m                                   ^\u001b[0m\n\u001b[0;31mSyntaxError\u001b[0m\u001b[0;31m:\u001b[0m invalid syntax\n"
     ]
    }
   ],
   "source": [
    "# Predicts if loan is defaulted by time t in years\n",
    "def is_defaulted_by(loan, years):\n",
    "    # GIVEN LAMBDA\n",
    "    default_prob = # Hand-calculate or calculate from hazard model\n",
    "    u = np.random.uniform(0, 1)\n",
    "    return (u <= default_prob)"
   ]
  },
  {
   "cell_type": "code",
   "execution_count": null,
   "metadata": {
    "collapsed": true
   },
   "outputs": [],
   "source": [
    "# Calculates loss of a loan using loss distribution model\n",
    "def calculate_loss(loan):\n",
    "    # PLUG IN LOSS DISTRIBUTION MODEL HERE\n",
    "    return 100000"
   ]
  },
  {
   "cell_type": "code",
   "execution_count": null,
   "metadata": {
    "collapsed": true
   },
   "outputs": [],
   "source": [
    "# Simulates total loss of 500 loans for a t year horizon\n",
    "def simulate_total_loss(N, years):\n",
    "    total_losses = []\n",
    "    for n in range(0, N):\n",
    "        sampled_loans = test_data.sample(500)\n",
    "        cur_loss = 0.0\n",
    "        \n",
    "        for i in range(0, 500):\n",
    "            cur_loan = sampled_loans[i:i+1]\n",
    "            if is_defaulted_by(cur_loan, years=1):\n",
    "                loan_loss = calculate_loss(cur_loan)\n",
    "                cur_loss += loan_loss\n",
    "        \n",
    "        total_losses.append(cur_loss)\n",
    "    \n",
    "    return total_losses"
   ]
  },
  {
   "cell_type": "code",
   "execution_count": null,
   "metadata": {
    "collapsed": true
   },
   "outputs": [],
   "source": [
    "# Estimate for 1 year and plot histogram\n",
    "total_1_year_losses = simulate_total_loss(N, 1)\n",
    "sns.distplot(total_1_year_losses)"
   ]
  },
  {
   "cell_type": "code",
   "execution_count": null,
   "metadata": {
    "collapsed": true
   },
   "outputs": [],
   "source": [
    "# Repeat for 5 year and plot histogram\n",
    "total_5_year_losses = simulate_total_loss(N, 5)\n",
    "sns.distplot(total_5_year_losses)"
   ]
  },
  {
   "cell_type": "code",
   "execution_count": 71,
   "metadata": {
    "collapsed": true
   },
   "outputs": [],
   "source": [
    "# Calculate VaR\n",
    "def get_VAR(total_losses, level=0.95):\n",
    "    sorted_losses = sorted(total_losses)\n",
    "    index = int((1-level) * 500)\n",
    "    return sorted_losses[index]"
   ]
  },
  {
   "cell_type": "code",
   "execution_count": 72,
   "metadata": {
    "collapsed": false
   },
   "outputs": [],
   "source": [
    "# Calculate Average VaR\n",
    "def get_avg_VAR(total_losses, level=0.95):\n",
    "    sampled_vars = []\n",
    "    cur_level = 1.00\n",
    "    while cur_level >= level:\n",
    "        print cur_level\n",
    "        print sampled_vars\n",
    "        sampled_vars.append(get_VAR(total_losses, cur_level))\n",
    "        cur_level -= 0.01\n",
    "    return np.mean(sampled_vars)"
   ]
  },
  {
   "cell_type": "code",
   "execution_count": 50,
   "metadata": {
    "collapsed": true
   },
   "outputs": [],
   "source": [
    "# Calculate confidence interval\n",
    "def get_conf_interval(total_losses, level=0.95):\n",
    "    n, min_max, mean, var, skew, kurt = stats.describe(total_losses)\n",
    "    std = math.sqrt(var)\n",
    "    return stats.norm.interval(level, loc=mean, scale=std)"
   ]
  },
  {
   "cell_type": "code",
   "execution_count": null,
   "metadata": {
    "collapsed": true
   },
   "outputs": [],
   "source": [
    "print \"VaR of one year loss at 95% level:\", get_VAR(total_1_year_losses, 0.95)\n",
    "print \"VaR of one year loss at 99% level:\", get_VAR(total_1_year_losses, 0.99)\n",
    "print \"Average VaR of one year loss at 95% level:\", get_avg_VAR(total_1_year_losses, level=0.95)\n",
    "print \"Average VaR of one year loss at 99% level:\", get_avg_VAR(total_1_year_losses, level=0.99)\n",
    "print \"95% confidence interval:\", get_conf_interval(total_1_year_losses, level=0.95)\n",
    "print \"99% confidence interval:\", get_conf_interval(total_1_year_losses, level=0.99)\n",
    "\n",
    "print \"\"\n",
    "\n",
    "print \"VaR of five year loss at 95% level:\", get_VAR(total_5_year_losses, 0.95)\n",
    "print \"VaR of five year loss at 99% level:\", get_VAR(total_5_year_losses, 0.99)\n",
    "print \"Average VaR of five year loss at 95% level:\", get_avg_VAR(total_5_year_losses, level=0.95)\n",
    "print \"Average VaR of five year loss at 99% level:\", get_avg_VAR(total_5_year_losses, level=0.99)\n",
    "print \"95% confidence interval:\", get_conf_interval(total_5_year_losses, level=0.95)\n",
    "print \"99% confidence interval:\", get_conf_interval(total_5_year_losses, level=0.99)"
   ]
  },
  {
   "cell_type": "code",
   "execution_count": null,
   "metadata": {
    "collapsed": true
   },
   "outputs": [],
   "source": [
    "# Find junior [5%, 15%] and senior tranches [15%, 100%]"
   ]
  },
  {
   "cell_type": "code",
   "execution_count": null,
   "metadata": {
    "collapsed": true
   },
   "outputs": [],
   "source": []
  }
 ],
 "metadata": {
  "anaconda-cloud": {},
  "kernelspec": {
   "display_name": "Python [anaconda2]",
   "language": "python",
   "name": "Python [anaconda2]"
  },
  "language_info": {
   "codemirror_mode": {
    "name": "ipython",
    "version": 2
   },
   "file_extension": ".py",
   "mimetype": "text/x-python",
   "name": "python",
   "nbconvert_exporter": "python",
   "pygments_lexer": "ipython2",
   "version": "2.7.12"
  }
 },
 "nbformat": 4,
 "nbformat_minor": 1
}
